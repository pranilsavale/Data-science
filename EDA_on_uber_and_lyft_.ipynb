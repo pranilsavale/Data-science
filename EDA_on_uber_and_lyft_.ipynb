{
  "nbformat": 4,
  "nbformat_minor": 0,
  "metadata": {
    "colab": {
      "name": "EDA on uber and lyft .ipynb",
      "provenance": [],
      "collapsed_sections": []
    },
    "kernelspec": {
      "display_name": "Python 3",
      "language": "python",
      "name": "python3"
    },
    "language_info": {
      "codemirror_mode": {
        "name": "ipython",
        "version": 3
      },
      "file_extension": ".py",
      "mimetype": "text/x-python",
      "name": "python",
      "nbconvert_exporter": "python",
      "pygments_lexer": "ipython3",
      "version": "3.8.5"
    }
  },
  "cells": [
    {
      "cell_type": "code",
      "metadata": {
        "id": "RjZfN4iR0pb8"
      },
      "source": [
        "import pandas as pd\n",
        "from sklearn.linear_model import LogisticRegression,LinearRegression\n",
        "import pandas as pd\n",
        "import numpy as np\n",
        "import matplotlib.pyplot as plt\n",
        "import seaborn as sns\n",
        "import itertools\n",
        "import gc\n",
        "import os\n",
        "import sys\n",
        "%matplotlib inline"
      ],
      "execution_count": null,
      "outputs": []
    },
    {
      "cell_type": "code",
      "metadata": {
        "colab": {
          "base_uri": "https://localhost:8080/"
        },
        "id": "LPr8F92WA3As",
        "outputId": "eb6444d7-d39b-4add-f16b-8b293a26ea9f"
      },
      "source": [
        "!wget https://www.dropbox.com/s/ncqb2ctkg7da11k/weather.csv"
      ],
      "execution_count": null,
      "outputs": [
        {
          "output_type": "stream",
          "text": [
            "--2021-05-22 17:10:05--  https://www.dropbox.com/s/ncqb2ctkg7da11k/weather.csv\n",
            "Resolving www.dropbox.com (www.dropbox.com)... 162.125.5.18, 2620:100:601d:18::a27d:512\n",
            "Connecting to www.dropbox.com (www.dropbox.com)|162.125.5.18|:443... connected.\n",
            "HTTP request sent, awaiting response... 301 Moved Permanently\n",
            "Location: /s/raw/ncqb2ctkg7da11k/weather.csv [following]\n",
            "--2021-05-22 17:10:05--  https://www.dropbox.com/s/raw/ncqb2ctkg7da11k/weather.csv\n",
            "Reusing existing connection to www.dropbox.com:443.\n",
            "HTTP request sent, awaiting response... 302 Found\n",
            "Location: https://uc3c207c0fbe15e0933e109e0003.dl.dropboxusercontent.com/cd/0/inline/BO9-OuPw2AZPpl14eeYuijXUx05S8ZRj9HgKXUPe7zDPT1mb0CUQHzhz8peMROgwaOOmaS-7nqglzEbAUMutxZM4GRhGIN0IaSf9tYemr9GahK88KGQNBAu-6mWXvwbidvedCL3eSaSzUkqOqUu15TtR/file# [following]\n",
            "--2021-05-22 17:10:05--  https://uc3c207c0fbe15e0933e109e0003.dl.dropboxusercontent.com/cd/0/inline/BO9-OuPw2AZPpl14eeYuijXUx05S8ZRj9HgKXUPe7zDPT1mb0CUQHzhz8peMROgwaOOmaS-7nqglzEbAUMutxZM4GRhGIN0IaSf9tYemr9GahK88KGQNBAu-6mWXvwbidvedCL3eSaSzUkqOqUu15TtR/file\n",
            "Resolving uc3c207c0fbe15e0933e109e0003.dl.dropboxusercontent.com (uc3c207c0fbe15e0933e109e0003.dl.dropboxusercontent.com)... 162.125.5.15, 2620:100:601d:15::a27d:50f\n",
            "Connecting to uc3c207c0fbe15e0933e109e0003.dl.dropboxusercontent.com (uc3c207c0fbe15e0933e109e0003.dl.dropboxusercontent.com)|162.125.5.15|:443... connected.\n",
            "HTTP request sent, awaiting response... 200 OK\n",
            "Length: 349993 (342K) [text/plain]\n",
            "Saving to: ‘weather.csv’\n",
            "\n",
            "weather.csv         100%[===================>] 341.79K  --.-KB/s    in 0.07s   \n",
            "\n",
            "2021-05-22 17:10:06 (4.46 MB/s) - ‘weather.csv’ saved [349993/349993]\n",
            "\n"
          ],
          "name": "stdout"
        }
      ]
    },
    {
      "cell_type": "code",
      "metadata": {
        "colab": {
          "base_uri": "https://localhost:8080/"
        },
        "id": "oUA2EPc2A3DL",
        "outputId": "3133f376-6fd7-4566-b10d-691423e1c6e8"
      },
      "source": [
        "!wget https://www.dropbox.com/s/brixkogrmhan6ed/cab_rides.csv"
      ],
      "execution_count": null,
      "outputs": [
        {
          "output_type": "stream",
          "text": [
            "--2021-05-22 17:10:08--  https://www.dropbox.com/s/brixkogrmhan6ed/cab_rides.csv\n",
            "Resolving www.dropbox.com (www.dropbox.com)... 162.125.5.18, 2620:100:601d:18::a27d:512\n",
            "Connecting to www.dropbox.com (www.dropbox.com)|162.125.5.18|:443... connected.\n",
            "HTTP request sent, awaiting response... 301 Moved Permanently\n",
            "Location: /s/raw/brixkogrmhan6ed/cab_rides.csv [following]\n",
            "--2021-05-22 17:10:08--  https://www.dropbox.com/s/raw/brixkogrmhan6ed/cab_rides.csv\n",
            "Reusing existing connection to www.dropbox.com:443.\n",
            "HTTP request sent, awaiting response... 302 Found\n",
            "Location: https://uceb40318e1fb962973cc18f5f86.dl.dropboxusercontent.com/cd/0/inline/BO_KrwVXwjYK7KhZF655sxkwgrrVBhLdPGg58zK61tCWvafJHOTIqtlzL2Nlq6a86wueHdRkRmm3DR5FzZUgHTpuKKgnSFAaxcexkdFm_2eoE88BoOuK-7Ga5SJksoG8E0mstxqk6rSGkOwLz_csGhKy/file# [following]\n",
            "--2021-05-22 17:10:08--  https://uceb40318e1fb962973cc18f5f86.dl.dropboxusercontent.com/cd/0/inline/BO_KrwVXwjYK7KhZF655sxkwgrrVBhLdPGg58zK61tCWvafJHOTIqtlzL2Nlq6a86wueHdRkRmm3DR5FzZUgHTpuKKgnSFAaxcexkdFm_2eoE88BoOuK-7Ga5SJksoG8E0mstxqk6rSGkOwLz_csGhKy/file\n",
            "Resolving uceb40318e1fb962973cc18f5f86.dl.dropboxusercontent.com (uceb40318e1fb962973cc18f5f86.dl.dropboxusercontent.com)... 162.125.5.15, 2620:100:601d:15::a27d:50f\n",
            "Connecting to uceb40318e1fb962973cc18f5f86.dl.dropboxusercontent.com (uceb40318e1fb962973cc18f5f86.dl.dropboxusercontent.com)|162.125.5.15|:443... connected.\n",
            "HTTP request sent, awaiting response... 200 OK\n",
            "Length: 88761783 (85M) [text/plain]\n",
            "Saving to: ‘cab_rides.csv’\n",
            "\n",
            "cab_rides.csv       100%[===================>]  84.65M  56.1MB/s    in 1.5s    \n",
            "\n",
            "2021-05-22 17:10:10 (56.1 MB/s) - ‘cab_rides.csv’ saved [88761783/88761783]\n",
            "\n"
          ],
          "name": "stdout"
        }
      ]
    },
    {
      "cell_type": "code",
      "metadata": {
        "id": "hSwW737VA3Fk"
      },
      "source": [
        "# Memory saving function credit to https://www.kaggle.com/gemartin/load-data-reduce-memory-usage\n",
        "def reduce_mem_usage(df):\n",
        "    \"\"\" iterate through all the columns of a dataframe and modify the data type\n",
        "        to reduce memory usage.\n",
        "    \"\"\"\n",
        "    start_mem = df.memory_usage().sum() / 1024**2\n",
        "    \n",
        "    for col in df.columns:\n",
        "        col_type = df[col].dtype\n",
        "        \n",
        "        if col_type != object:\n",
        "            c_min = df[col].min()\n",
        "            c_max = df[col].max()\n",
        "            if str(col_type)[:3] == 'int':\n",
        "                if c_min > np.iinfo(np.int8).min and c_max < np.iinfo(np.int8).max:\n",
        "                    df[col] = df[col].astype(np.int8)\n",
        "                elif c_min > np.iinfo(np.int16).min and c_max < np.iinfo(np.int16).max:\n",
        "                    df[col] = df[col].astype(np.int16)\n",
        "                elif c_min > np.iinfo(np.int32).min and c_max < np.iinfo(np.int32).max:\n",
        "                    df[col] = df[col].astype(np.int32)\n",
        "                elif c_min > np.iinfo(np.int64).min and c_max < np.iinfo(np.int64).max:\n",
        "                    df[col] = df[col].astype(np.int64)  \n",
        "            else:\n",
        "                #if c_min > np.finfo(np.float16).min and c_max < np.finfo(np.float16).max:\n",
        "                #    df[col] = df[col].astype(np.float16)\n",
        "                #el\n",
        "                if c_min > np.finfo(np.float32).min and c_max < np.finfo(np.float32).max:\n",
        "                    df[col] = df[col].astype(np.float32)\n",
        "                else:\n",
        "                    df[col] = df[col].astype(np.float64)\n",
        "        #else:\n",
        "            #df[col] = df[col].astype('category')\n",
        "\n",
        "    end_mem = df.memory_usage().sum() / 1024**2\n",
        "    print('Memory usage of dataframe is {:.2f} MB --> {:.2f} MB (Decreased by {:.1f}%)'.format(\n",
        "        start_mem, end_mem, 100 * (start_mem - end_mem) / start_mem))\n",
        "    return df"
      ],
      "execution_count": null,
      "outputs": []
    },
    {
      "cell_type": "code",
      "metadata": {
        "colab": {
          "base_uri": "https://localhost:8080/"
        },
        "id": "jE5UFYp9A3IG",
        "outputId": "fa68ee32-ac24-4a63-9184-b8fbf9c17f83"
      },
      "source": [
        "cab_data = pd.read_csv(\"/content/cab_rides.csv\")\n",
        "cab_data=reduce_mem_usage(cab_data)\n",
        "weather_data = pd.read_csv(\"/content/weather.csv\")\n",
        "weather_data=reduce_mem_usage(weather_data)                                                 # data is reduced in size\n"
      ],
      "execution_count": null,
      "outputs": [
        {
          "output_type": "stream",
          "text": [
            "Memory usage of dataframe is 52.88 MB --> 44.95 MB (Decreased by 15.0%)\n",
            "Memory usage of dataframe is 0.38 MB --> 0.22 MB (Decreased by 43.7%)\n"
          ],
          "name": "stdout"
        }
      ]
    },
    {
      "cell_type": "code",
      "metadata": {
        "colab": {
          "base_uri": "https://localhost:8080/",
          "height": 285
        },
        "id": "A3RmnZj5A3LP",
        "outputId": "07853e4b-7375-4e25-bc16-a8219bbdc7d7"
      },
      "source": [
        "cab_data.head()"
      ],
      "execution_count": null,
      "outputs": [
        {
          "output_type": "execute_result",
          "data": {
            "text/html": [
              "<div>\n",
              "<style scoped>\n",
              "    .dataframe tbody tr th:only-of-type {\n",
              "        vertical-align: middle;\n",
              "    }\n",
              "\n",
              "    .dataframe tbody tr th {\n",
              "        vertical-align: top;\n",
              "    }\n",
              "\n",
              "    .dataframe thead th {\n",
              "        text-align: right;\n",
              "    }\n",
              "</style>\n",
              "<table border=\"1\" class=\"dataframe\">\n",
              "  <thead>\n",
              "    <tr style=\"text-align: right;\">\n",
              "      <th></th>\n",
              "      <th>distance</th>\n",
              "      <th>cab_type</th>\n",
              "      <th>time_stamp</th>\n",
              "      <th>destination</th>\n",
              "      <th>source</th>\n",
              "      <th>price</th>\n",
              "      <th>surge_multiplier</th>\n",
              "      <th>id</th>\n",
              "      <th>product_id</th>\n",
              "      <th>name</th>\n",
              "    </tr>\n",
              "  </thead>\n",
              "  <tbody>\n",
              "    <tr>\n",
              "      <th>0</th>\n",
              "      <td>0.44</td>\n",
              "      <td>Lyft</td>\n",
              "      <td>1544952607890</td>\n",
              "      <td>North Station</td>\n",
              "      <td>Haymarket Square</td>\n",
              "      <td>5.0</td>\n",
              "      <td>1.0</td>\n",
              "      <td>424553bb-7174-41ea-aeb4-fe06d4f4b9d7</td>\n",
              "      <td>lyft_line</td>\n",
              "      <td>Shared</td>\n",
              "    </tr>\n",
              "    <tr>\n",
              "      <th>1</th>\n",
              "      <td>0.44</td>\n",
              "      <td>Lyft</td>\n",
              "      <td>1543284023677</td>\n",
              "      <td>North Station</td>\n",
              "      <td>Haymarket Square</td>\n",
              "      <td>11.0</td>\n",
              "      <td>1.0</td>\n",
              "      <td>4bd23055-6827-41c6-b23b-3c491f24e74d</td>\n",
              "      <td>lyft_premier</td>\n",
              "      <td>Lux</td>\n",
              "    </tr>\n",
              "    <tr>\n",
              "      <th>2</th>\n",
              "      <td>0.44</td>\n",
              "      <td>Lyft</td>\n",
              "      <td>1543366822198</td>\n",
              "      <td>North Station</td>\n",
              "      <td>Haymarket Square</td>\n",
              "      <td>7.0</td>\n",
              "      <td>1.0</td>\n",
              "      <td>981a3613-77af-4620-a42a-0c0866077d1e</td>\n",
              "      <td>lyft</td>\n",
              "      <td>Lyft</td>\n",
              "    </tr>\n",
              "    <tr>\n",
              "      <th>3</th>\n",
              "      <td>0.44</td>\n",
              "      <td>Lyft</td>\n",
              "      <td>1543553582749</td>\n",
              "      <td>North Station</td>\n",
              "      <td>Haymarket Square</td>\n",
              "      <td>26.0</td>\n",
              "      <td>1.0</td>\n",
              "      <td>c2d88af2-d278-4bfd-a8d0-29ca77cc5512</td>\n",
              "      <td>lyft_luxsuv</td>\n",
              "      <td>Lux Black XL</td>\n",
              "    </tr>\n",
              "    <tr>\n",
              "      <th>4</th>\n",
              "      <td>0.44</td>\n",
              "      <td>Lyft</td>\n",
              "      <td>1543463360223</td>\n",
              "      <td>North Station</td>\n",
              "      <td>Haymarket Square</td>\n",
              "      <td>9.0</td>\n",
              "      <td>1.0</td>\n",
              "      <td>e0126e1f-8ca9-4f2e-82b3-50505a09db9a</td>\n",
              "      <td>lyft_plus</td>\n",
              "      <td>Lyft XL</td>\n",
              "    </tr>\n",
              "  </tbody>\n",
              "</table>\n",
              "</div>"
            ],
            "text/plain": [
              "   distance cab_type  ...    product_id          name\n",
              "0      0.44     Lyft  ...     lyft_line        Shared\n",
              "1      0.44     Lyft  ...  lyft_premier           Lux\n",
              "2      0.44     Lyft  ...          lyft          Lyft\n",
              "3      0.44     Lyft  ...   lyft_luxsuv  Lux Black XL\n",
              "4      0.44     Lyft  ...     lyft_plus       Lyft XL\n",
              "\n",
              "[5 rows x 10 columns]"
            ]
          },
          "metadata": {
            "tags": []
          },
          "execution_count": 7
        }
      ]
    },
    {
      "cell_type": "code",
      "metadata": {
        "id": "KdLDcL9ABVQG"
      },
      "source": [
        "import datetime                                                                           # to change time_stamp string to datatime \n",
        "cab_data['datetime']= pd.to_datetime(cab_data['time_stamp'])\n",
        "cab_data\n",
        "weather_data['date_time'] = pd.to_datetime(weather_data['time_stamp'])"
      ],
      "execution_count": null,
      "outputs": []
    },
    {
      "cell_type": "code",
      "metadata": {
        "colab": {
          "base_uri": "https://localhost:8080/"
        },
        "id": "eDQoIpm0zEXU",
        "outputId": "e189aac9-e70f-4049-bab9-c41a296e8b6c"
      },
      "source": [
        "cab_data.columns"
      ],
      "execution_count": null,
      "outputs": [
        {
          "output_type": "execute_result",
          "data": {
            "text/plain": [
              "Index(['distance', 'cab_type', 'time_stamp', 'destination', 'source', 'price',\n",
              "       'surge_multiplier', 'id', 'product_id', 'name', 'datetime'],\n",
              "      dtype='object')"
            ]
          },
          "metadata": {
            "tags": []
          },
          "execution_count": 9
        }
      ]
    },
    {
      "cell_type": "code",
      "metadata": {
        "colab": {
          "base_uri": "https://localhost:8080/"
        },
        "id": "gLf4SO66zDrS",
        "outputId": "5c9c67e8-1b17-4793-f377-220438d9799f"
      },
      "source": [
        "weather_data.columns"
      ],
      "execution_count": null,
      "outputs": [
        {
          "output_type": "execute_result",
          "data": {
            "text/plain": [
              "Index(['temp', 'location', 'clouds', 'pressure', 'rain', 'time_stamp',\n",
              "       'humidity', 'wind', 'date_time'],\n",
              "      dtype='object')"
            ]
          },
          "metadata": {
            "tags": []
          },
          "execution_count": 10
        }
      ]
    },
    {
      "cell_type": "code",
      "metadata": {
        "colab": {
          "base_uri": "https://localhost:8080/"
        },
        "id": "h--1tSAAzDuu",
        "outputId": "31ae2b1f-135b-4fd2-df47-7638b1e059bc"
      },
      "source": [
        "cab_data.shape"
      ],
      "execution_count": null,
      "outputs": [
        {
          "output_type": "execute_result",
          "data": {
            "text/plain": [
              "(693071, 11)"
            ]
          },
          "metadata": {
            "tags": []
          },
          "execution_count": 11
        }
      ]
    },
    {
      "cell_type": "code",
      "metadata": {
        "colab": {
          "base_uri": "https://localhost:8080/"
        },
        "id": "vLgxrhyuzDoz",
        "outputId": "c76e7ae4-2acc-4a2a-c1de-6ee3b5ccf9fd"
      },
      "source": [
        "weather_data.shape"
      ],
      "execution_count": null,
      "outputs": [
        {
          "output_type": "execute_result",
          "data": {
            "text/plain": [
              "(6276, 9)"
            ]
          },
          "metadata": {
            "tags": []
          },
          "execution_count": 12
        }
      ]
    },
    {
      "cell_type": "code",
      "metadata": {
        "colab": {
          "base_uri": "https://localhost:8080/",
          "height": 288
        },
        "id": "vkaVa0eVzOkg",
        "outputId": "b3b6c299-819d-4545-8e40-fa7f949ae054"
      },
      "source": [
        "cab_data.describe()                                                                 # to understand standard deviation of data"
      ],
      "execution_count": null,
      "outputs": [
        {
          "output_type": "execute_result",
          "data": {
            "text/html": [
              "<div>\n",
              "<style scoped>\n",
              "    .dataframe tbody tr th:only-of-type {\n",
              "        vertical-align: middle;\n",
              "    }\n",
              "\n",
              "    .dataframe tbody tr th {\n",
              "        vertical-align: top;\n",
              "    }\n",
              "\n",
              "    .dataframe thead th {\n",
              "        text-align: right;\n",
              "    }\n",
              "</style>\n",
              "<table border=\"1\" class=\"dataframe\">\n",
              "  <thead>\n",
              "    <tr style=\"text-align: right;\">\n",
              "      <th></th>\n",
              "      <th>distance</th>\n",
              "      <th>time_stamp</th>\n",
              "      <th>price</th>\n",
              "      <th>surge_multiplier</th>\n",
              "    </tr>\n",
              "  </thead>\n",
              "  <tbody>\n",
              "    <tr>\n",
              "      <th>count</th>\n",
              "      <td>693071.000000</td>\n",
              "      <td>6.930710e+05</td>\n",
              "      <td>637976.000000</td>\n",
              "      <td>693071.000000</td>\n",
              "    </tr>\n",
              "    <tr>\n",
              "      <th>mean</th>\n",
              "      <td>2.190057</td>\n",
              "      <td>1.544046e+12</td>\n",
              "      <td>16.543797</td>\n",
              "      <td>1.013870</td>\n",
              "    </tr>\n",
              "    <tr>\n",
              "      <th>std</th>\n",
              "      <td>1.138935</td>\n",
              "      <td>6.891925e+08</td>\n",
              "      <td>9.319172</td>\n",
              "      <td>0.091467</td>\n",
              "    </tr>\n",
              "    <tr>\n",
              "      <th>min</th>\n",
              "      <td>0.020000</td>\n",
              "      <td>1.543204e+12</td>\n",
              "      <td>2.500000</td>\n",
              "      <td>1.000000</td>\n",
              "    </tr>\n",
              "    <tr>\n",
              "      <th>25%</th>\n",
              "      <td>1.280000</td>\n",
              "      <td>1.543444e+12</td>\n",
              "      <td>9.000000</td>\n",
              "      <td>1.000000</td>\n",
              "    </tr>\n",
              "    <tr>\n",
              "      <th>50%</th>\n",
              "      <td>2.160000</td>\n",
              "      <td>1.543737e+12</td>\n",
              "      <td>13.500000</td>\n",
              "      <td>1.000000</td>\n",
              "    </tr>\n",
              "    <tr>\n",
              "      <th>75%</th>\n",
              "      <td>2.920000</td>\n",
              "      <td>1.544828e+12</td>\n",
              "      <td>22.500000</td>\n",
              "      <td>1.000000</td>\n",
              "    </tr>\n",
              "    <tr>\n",
              "      <th>max</th>\n",
              "      <td>7.860000</td>\n",
              "      <td>1.545161e+12</td>\n",
              "      <td>97.500000</td>\n",
              "      <td>3.000000</td>\n",
              "    </tr>\n",
              "  </tbody>\n",
              "</table>\n",
              "</div>"
            ],
            "text/plain": [
              "            distance    time_stamp          price  surge_multiplier\n",
              "count  693071.000000  6.930710e+05  637976.000000     693071.000000\n",
              "mean        2.190057  1.544046e+12      16.543797          1.013870\n",
              "std         1.138935  6.891925e+08       9.319172          0.091467\n",
              "min         0.020000  1.543204e+12       2.500000          1.000000\n",
              "25%         1.280000  1.543444e+12       9.000000          1.000000\n",
              "50%         2.160000  1.543737e+12      13.500000          1.000000\n",
              "75%         2.920000  1.544828e+12      22.500000          1.000000\n",
              "max         7.860000  1.545161e+12      97.500000          3.000000"
            ]
          },
          "metadata": {
            "tags": []
          },
          "execution_count": 13
        }
      ]
    },
    {
      "cell_type": "code",
      "metadata": {
        "colab": {
          "base_uri": "https://localhost:8080/",
          "height": 288
        },
        "id": "zAXaQHGSzR-I",
        "outputId": "08c60cc5-699e-48e5-c096-2953ce190d71"
      },
      "source": [
        "weather_data.describe()"
      ],
      "execution_count": null,
      "outputs": [
        {
          "output_type": "execute_result",
          "data": {
            "text/html": [
              "<div>\n",
              "<style scoped>\n",
              "    .dataframe tbody tr th:only-of-type {\n",
              "        vertical-align: middle;\n",
              "    }\n",
              "\n",
              "    .dataframe tbody tr th {\n",
              "        vertical-align: top;\n",
              "    }\n",
              "\n",
              "    .dataframe thead th {\n",
              "        text-align: right;\n",
              "    }\n",
              "</style>\n",
              "<table border=\"1\" class=\"dataframe\">\n",
              "  <thead>\n",
              "    <tr style=\"text-align: right;\">\n",
              "      <th></th>\n",
              "      <th>temp</th>\n",
              "      <th>clouds</th>\n",
              "      <th>pressure</th>\n",
              "      <th>rain</th>\n",
              "      <th>time_stamp</th>\n",
              "      <th>humidity</th>\n",
              "      <th>wind</th>\n",
              "    </tr>\n",
              "  </thead>\n",
              "  <tbody>\n",
              "    <tr>\n",
              "      <th>count</th>\n",
              "      <td>6276.000000</td>\n",
              "      <td>6276.000000</td>\n",
              "      <td>6276.000000</td>\n",
              "      <td>894.000000</td>\n",
              "      <td>6.276000e+03</td>\n",
              "      <td>6276.000000</td>\n",
              "      <td>6276.000000</td>\n",
              "    </tr>\n",
              "    <tr>\n",
              "      <th>mean</th>\n",
              "      <td>39.090378</td>\n",
              "      <td>0.677775</td>\n",
              "      <td>1008.443176</td>\n",
              "      <td>0.057652</td>\n",
              "      <td>1.543857e+09</td>\n",
              "      <td>0.763976</td>\n",
              "      <td>6.802810</td>\n",
              "    </tr>\n",
              "    <tr>\n",
              "      <th>std</th>\n",
              "      <td>6.022061</td>\n",
              "      <td>0.314283</td>\n",
              "      <td>12.870790</td>\n",
              "      <td>0.100758</td>\n",
              "      <td>6.659340e+05</td>\n",
              "      <td>0.127340</td>\n",
              "      <td>3.633476</td>\n",
              "    </tr>\n",
              "    <tr>\n",
              "      <th>min</th>\n",
              "      <td>19.620001</td>\n",
              "      <td>0.000000</td>\n",
              "      <td>988.250000</td>\n",
              "      <td>0.000200</td>\n",
              "      <td>1.543204e+09</td>\n",
              "      <td>0.450000</td>\n",
              "      <td>0.290000</td>\n",
              "    </tr>\n",
              "    <tr>\n",
              "      <th>25%</th>\n",
              "      <td>36.077501</td>\n",
              "      <td>0.440000</td>\n",
              "      <td>997.747498</td>\n",
              "      <td>0.004900</td>\n",
              "      <td>1.543387e+09</td>\n",
              "      <td>0.670000</td>\n",
              "      <td>3.517500</td>\n",
              "    </tr>\n",
              "    <tr>\n",
              "      <th>50%</th>\n",
              "      <td>40.130001</td>\n",
              "      <td>0.780000</td>\n",
              "      <td>1007.659973</td>\n",
              "      <td>0.014850</td>\n",
              "      <td>1.543514e+09</td>\n",
              "      <td>0.760000</td>\n",
              "      <td>6.570000</td>\n",
              "    </tr>\n",
              "    <tr>\n",
              "      <th>75%</th>\n",
              "      <td>42.832501</td>\n",
              "      <td>0.970000</td>\n",
              "      <td>1018.479980</td>\n",
              "      <td>0.060925</td>\n",
              "      <td>1.544691e+09</td>\n",
              "      <td>0.890000</td>\n",
              "      <td>9.920000</td>\n",
              "    </tr>\n",
              "    <tr>\n",
              "      <th>max</th>\n",
              "      <td>55.410000</td>\n",
              "      <td>1.000000</td>\n",
              "      <td>1035.119995</td>\n",
              "      <td>0.780700</td>\n",
              "      <td>1.545159e+09</td>\n",
              "      <td>0.990000</td>\n",
              "      <td>18.180000</td>\n",
              "    </tr>\n",
              "  </tbody>\n",
              "</table>\n",
              "</div>"
            ],
            "text/plain": [
              "              temp       clouds  ...     humidity         wind\n",
              "count  6276.000000  6276.000000  ...  6276.000000  6276.000000\n",
              "mean     39.090378     0.677775  ...     0.763976     6.802810\n",
              "std       6.022061     0.314283  ...     0.127340     3.633476\n",
              "min      19.620001     0.000000  ...     0.450000     0.290000\n",
              "25%      36.077501     0.440000  ...     0.670000     3.517500\n",
              "50%      40.130001     0.780000  ...     0.760000     6.570000\n",
              "75%      42.832501     0.970000  ...     0.890000     9.920000\n",
              "max      55.410000     1.000000  ...     0.990000    18.180000\n",
              "\n",
              "[8 rows x 7 columns]"
            ]
          },
          "metadata": {
            "tags": []
          },
          "execution_count": 14
        }
      ]
    },
    {
      "cell_type": "code",
      "metadata": {
        "id": "3ZsJ0ZV_A3NW"
      },
      "source": [
        "a=pd.concat([cab_data,weather_data])                       # .concat function to join 2 dataset"
      ],
      "execution_count": null,
      "outputs": []
    },
    {
      "cell_type": "code",
      "metadata": {
        "colab": {
          "base_uri": "https://localhost:8080/",
          "height": 477
        },
        "id": "vwMM-Q-trVU2",
        "outputId": "24e4745b-3f7d-4be5-f791-b7eaf092de2a"
      },
      "source": [
        "a.head()"
      ],
      "execution_count": null,
      "outputs": [
        {
          "output_type": "execute_result",
          "data": {
            "text/html": [
              "<div>\n",
              "<style scoped>\n",
              "    .dataframe tbody tr th:only-of-type {\n",
              "        vertical-align: middle;\n",
              "    }\n",
              "\n",
              "    .dataframe tbody tr th {\n",
              "        vertical-align: top;\n",
              "    }\n",
              "\n",
              "    .dataframe thead th {\n",
              "        text-align: right;\n",
              "    }\n",
              "</style>\n",
              "<table border=\"1\" class=\"dataframe\">\n",
              "  <thead>\n",
              "    <tr style=\"text-align: right;\">\n",
              "      <th></th>\n",
              "      <th>distance</th>\n",
              "      <th>cab_type</th>\n",
              "      <th>time_stamp</th>\n",
              "      <th>destination</th>\n",
              "      <th>source</th>\n",
              "      <th>price</th>\n",
              "      <th>surge_multiplier</th>\n",
              "      <th>id</th>\n",
              "      <th>product_id</th>\n",
              "      <th>name</th>\n",
              "      <th>datetime</th>\n",
              "      <th>temp</th>\n",
              "      <th>location</th>\n",
              "      <th>clouds</th>\n",
              "      <th>pressure</th>\n",
              "      <th>rain</th>\n",
              "      <th>humidity</th>\n",
              "      <th>wind</th>\n",
              "      <th>date_time</th>\n",
              "    </tr>\n",
              "  </thead>\n",
              "  <tbody>\n",
              "    <tr>\n",
              "      <th>0</th>\n",
              "      <td>0.44</td>\n",
              "      <td>Lyft</td>\n",
              "      <td>1544952607890</td>\n",
              "      <td>North Station</td>\n",
              "      <td>Haymarket Square</td>\n",
              "      <td>5.0</td>\n",
              "      <td>1.0</td>\n",
              "      <td>424553bb-7174-41ea-aeb4-fe06d4f4b9d7</td>\n",
              "      <td>lyft_line</td>\n",
              "      <td>Shared</td>\n",
              "      <td>1970-01-01 00:25:44.952607890</td>\n",
              "      <td>NaN</td>\n",
              "      <td>NaN</td>\n",
              "      <td>NaN</td>\n",
              "      <td>NaN</td>\n",
              "      <td>NaN</td>\n",
              "      <td>NaN</td>\n",
              "      <td>NaN</td>\n",
              "      <td>NaT</td>\n",
              "    </tr>\n",
              "    <tr>\n",
              "      <th>1</th>\n",
              "      <td>0.44</td>\n",
              "      <td>Lyft</td>\n",
              "      <td>1543284023677</td>\n",
              "      <td>North Station</td>\n",
              "      <td>Haymarket Square</td>\n",
              "      <td>11.0</td>\n",
              "      <td>1.0</td>\n",
              "      <td>4bd23055-6827-41c6-b23b-3c491f24e74d</td>\n",
              "      <td>lyft_premier</td>\n",
              "      <td>Lux</td>\n",
              "      <td>1970-01-01 00:25:43.284023677</td>\n",
              "      <td>NaN</td>\n",
              "      <td>NaN</td>\n",
              "      <td>NaN</td>\n",
              "      <td>NaN</td>\n",
              "      <td>NaN</td>\n",
              "      <td>NaN</td>\n",
              "      <td>NaN</td>\n",
              "      <td>NaT</td>\n",
              "    </tr>\n",
              "    <tr>\n",
              "      <th>2</th>\n",
              "      <td>0.44</td>\n",
              "      <td>Lyft</td>\n",
              "      <td>1543366822198</td>\n",
              "      <td>North Station</td>\n",
              "      <td>Haymarket Square</td>\n",
              "      <td>7.0</td>\n",
              "      <td>1.0</td>\n",
              "      <td>981a3613-77af-4620-a42a-0c0866077d1e</td>\n",
              "      <td>lyft</td>\n",
              "      <td>Lyft</td>\n",
              "      <td>1970-01-01 00:25:43.366822198</td>\n",
              "      <td>NaN</td>\n",
              "      <td>NaN</td>\n",
              "      <td>NaN</td>\n",
              "      <td>NaN</td>\n",
              "      <td>NaN</td>\n",
              "      <td>NaN</td>\n",
              "      <td>NaN</td>\n",
              "      <td>NaT</td>\n",
              "    </tr>\n",
              "    <tr>\n",
              "      <th>3</th>\n",
              "      <td>0.44</td>\n",
              "      <td>Lyft</td>\n",
              "      <td>1543553582749</td>\n",
              "      <td>North Station</td>\n",
              "      <td>Haymarket Square</td>\n",
              "      <td>26.0</td>\n",
              "      <td>1.0</td>\n",
              "      <td>c2d88af2-d278-4bfd-a8d0-29ca77cc5512</td>\n",
              "      <td>lyft_luxsuv</td>\n",
              "      <td>Lux Black XL</td>\n",
              "      <td>1970-01-01 00:25:43.553582749</td>\n",
              "      <td>NaN</td>\n",
              "      <td>NaN</td>\n",
              "      <td>NaN</td>\n",
              "      <td>NaN</td>\n",
              "      <td>NaN</td>\n",
              "      <td>NaN</td>\n",
              "      <td>NaN</td>\n",
              "      <td>NaT</td>\n",
              "    </tr>\n",
              "    <tr>\n",
              "      <th>4</th>\n",
              "      <td>0.44</td>\n",
              "      <td>Lyft</td>\n",
              "      <td>1543463360223</td>\n",
              "      <td>North Station</td>\n",
              "      <td>Haymarket Square</td>\n",
              "      <td>9.0</td>\n",
              "      <td>1.0</td>\n",
              "      <td>e0126e1f-8ca9-4f2e-82b3-50505a09db9a</td>\n",
              "      <td>lyft_plus</td>\n",
              "      <td>Lyft XL</td>\n",
              "      <td>1970-01-01 00:25:43.463360223</td>\n",
              "      <td>NaN</td>\n",
              "      <td>NaN</td>\n",
              "      <td>NaN</td>\n",
              "      <td>NaN</td>\n",
              "      <td>NaN</td>\n",
              "      <td>NaN</td>\n",
              "      <td>NaN</td>\n",
              "      <td>NaT</td>\n",
              "    </tr>\n",
              "  </tbody>\n",
              "</table>\n",
              "</div>"
            ],
            "text/plain": [
              "   distance cab_type     time_stamp  ... humidity wind  date_time\n",
              "0      0.44     Lyft  1544952607890  ...      NaN  NaN        NaT\n",
              "1      0.44     Lyft  1543284023677  ...      NaN  NaN        NaT\n",
              "2      0.44     Lyft  1543366822198  ...      NaN  NaN        NaT\n",
              "3      0.44     Lyft  1543553582749  ...      NaN  NaN        NaT\n",
              "4      0.44     Lyft  1543463360223  ...      NaN  NaN        NaT\n",
              "\n",
              "[5 rows x 19 columns]"
            ]
          },
          "metadata": {
            "tags": []
          },
          "execution_count": 16
        }
      ]
    },
    {
      "cell_type": "code",
      "metadata": {
        "id": "V5Tgd14Jo9Kf"
      },
      "source": [
        "a['day']=a.date_time.dt.day                                 # to get perticular day in time_stamp\n",
        "a['hour']=a.date_time.dt.hour                               # to get perticular hour in time_stamp"
      ],
      "execution_count": null,
      "outputs": []
    },
    {
      "cell_type": "code",
      "metadata": {
        "colab": {
          "base_uri": "https://localhost:8080/",
          "height": 305
        },
        "id": "Cv2nzPExr9fE",
        "outputId": "7dbe9013-cdc4-432c-d2ca-d011c5f7788e"
      },
      "source": [
        "a.tail()                                                    # to get last 5 values "
      ],
      "execution_count": null,
      "outputs": [
        {
          "output_type": "execute_result",
          "data": {
            "text/html": [
              "<div>\n",
              "<style scoped>\n",
              "    .dataframe tbody tr th:only-of-type {\n",
              "        vertical-align: middle;\n",
              "    }\n",
              "\n",
              "    .dataframe tbody tr th {\n",
              "        vertical-align: top;\n",
              "    }\n",
              "\n",
              "    .dataframe thead th {\n",
              "        text-align: right;\n",
              "    }\n",
              "</style>\n",
              "<table border=\"1\" class=\"dataframe\">\n",
              "  <thead>\n",
              "    <tr style=\"text-align: right;\">\n",
              "      <th></th>\n",
              "      <th>distance</th>\n",
              "      <th>cab_type</th>\n",
              "      <th>time_stamp</th>\n",
              "      <th>destination</th>\n",
              "      <th>source</th>\n",
              "      <th>price</th>\n",
              "      <th>surge_multiplier</th>\n",
              "      <th>id</th>\n",
              "      <th>product_id</th>\n",
              "      <th>name</th>\n",
              "      <th>datetime</th>\n",
              "      <th>temp</th>\n",
              "      <th>location</th>\n",
              "      <th>clouds</th>\n",
              "      <th>pressure</th>\n",
              "      <th>rain</th>\n",
              "      <th>humidity</th>\n",
              "      <th>wind</th>\n",
              "      <th>date_time</th>\n",
              "      <th>day</th>\n",
              "      <th>hour</th>\n",
              "    </tr>\n",
              "  </thead>\n",
              "  <tbody>\n",
              "    <tr>\n",
              "      <th>6271</th>\n",
              "      <td>NaN</td>\n",
              "      <td>NaN</td>\n",
              "      <td>1543819974</td>\n",
              "      <td>NaN</td>\n",
              "      <td>NaN</td>\n",
              "      <td>NaN</td>\n",
              "      <td>NaN</td>\n",
              "      <td>NaN</td>\n",
              "      <td>NaN</td>\n",
              "      <td>NaN</td>\n",
              "      <td>NaT</td>\n",
              "      <td>44.720001</td>\n",
              "      <td>North Station</td>\n",
              "      <td>0.89</td>\n",
              "      <td>1000.690002</td>\n",
              "      <td>NaN</td>\n",
              "      <td>0.96</td>\n",
              "      <td>1.52</td>\n",
              "      <td>1970-01-01 00:00:01.543819974</td>\n",
              "      <td>1.0</td>\n",
              "      <td>0.0</td>\n",
              "    </tr>\n",
              "    <tr>\n",
              "      <th>6272</th>\n",
              "      <td>NaN</td>\n",
              "      <td>NaN</td>\n",
              "      <td>1543819974</td>\n",
              "      <td>NaN</td>\n",
              "      <td>NaN</td>\n",
              "      <td>NaN</td>\n",
              "      <td>NaN</td>\n",
              "      <td>NaN</td>\n",
              "      <td>NaN</td>\n",
              "      <td>NaN</td>\n",
              "      <td>NaT</td>\n",
              "      <td>44.849998</td>\n",
              "      <td>Northeastern University</td>\n",
              "      <td>0.88</td>\n",
              "      <td>1000.710022</td>\n",
              "      <td>NaN</td>\n",
              "      <td>0.96</td>\n",
              "      <td>1.54</td>\n",
              "      <td>1970-01-01 00:00:01.543819974</td>\n",
              "      <td>1.0</td>\n",
              "      <td>0.0</td>\n",
              "    </tr>\n",
              "    <tr>\n",
              "      <th>6273</th>\n",
              "      <td>NaN</td>\n",
              "      <td>NaN</td>\n",
              "      <td>1543819974</td>\n",
              "      <td>NaN</td>\n",
              "      <td>NaN</td>\n",
              "      <td>NaN</td>\n",
              "      <td>NaN</td>\n",
              "      <td>NaN</td>\n",
              "      <td>NaN</td>\n",
              "      <td>NaN</td>\n",
              "      <td>NaT</td>\n",
              "      <td>44.820000</td>\n",
              "      <td>South Station</td>\n",
              "      <td>0.89</td>\n",
              "      <td>1000.700012</td>\n",
              "      <td>NaN</td>\n",
              "      <td>0.96</td>\n",
              "      <td>1.54</td>\n",
              "      <td>1970-01-01 00:00:01.543819974</td>\n",
              "      <td>1.0</td>\n",
              "      <td>0.0</td>\n",
              "    </tr>\n",
              "    <tr>\n",
              "      <th>6274</th>\n",
              "      <td>NaN</td>\n",
              "      <td>NaN</td>\n",
              "      <td>1543819974</td>\n",
              "      <td>NaN</td>\n",
              "      <td>NaN</td>\n",
              "      <td>NaN</td>\n",
              "      <td>NaN</td>\n",
              "      <td>NaN</td>\n",
              "      <td>NaN</td>\n",
              "      <td>NaN</td>\n",
              "      <td>NaT</td>\n",
              "      <td>44.779999</td>\n",
              "      <td>Theatre District</td>\n",
              "      <td>0.89</td>\n",
              "      <td>1000.700012</td>\n",
              "      <td>NaN</td>\n",
              "      <td>0.96</td>\n",
              "      <td>1.54</td>\n",
              "      <td>1970-01-01 00:00:01.543819974</td>\n",
              "      <td>1.0</td>\n",
              "      <td>0.0</td>\n",
              "    </tr>\n",
              "    <tr>\n",
              "      <th>6275</th>\n",
              "      <td>NaN</td>\n",
              "      <td>NaN</td>\n",
              "      <td>1543819974</td>\n",
              "      <td>NaN</td>\n",
              "      <td>NaN</td>\n",
              "      <td>NaN</td>\n",
              "      <td>NaN</td>\n",
              "      <td>NaN</td>\n",
              "      <td>NaN</td>\n",
              "      <td>NaN</td>\n",
              "      <td>NaT</td>\n",
              "      <td>44.689999</td>\n",
              "      <td>West End</td>\n",
              "      <td>0.89</td>\n",
              "      <td>1000.700012</td>\n",
              "      <td>NaN</td>\n",
              "      <td>0.96</td>\n",
              "      <td>1.52</td>\n",
              "      <td>1970-01-01 00:00:01.543819974</td>\n",
              "      <td>1.0</td>\n",
              "      <td>0.0</td>\n",
              "    </tr>\n",
              "  </tbody>\n",
              "</table>\n",
              "</div>"
            ],
            "text/plain": [
              "      distance cab_type  time_stamp  ...                     date_time  day  hour\n",
              "6271       NaN      NaN  1543819974  ... 1970-01-01 00:00:01.543819974  1.0   0.0\n",
              "6272       NaN      NaN  1543819974  ... 1970-01-01 00:00:01.543819974  1.0   0.0\n",
              "6273       NaN      NaN  1543819974  ... 1970-01-01 00:00:01.543819974  1.0   0.0\n",
              "6274       NaN      NaN  1543819974  ... 1970-01-01 00:00:01.543819974  1.0   0.0\n",
              "6275       NaN      NaN  1543819974  ... 1970-01-01 00:00:01.543819974  1.0   0.0\n",
              "\n",
              "[5 rows x 21 columns]"
            ]
          },
          "metadata": {
            "tags": []
          },
          "execution_count": 18
        }
      ]
    },
    {
      "cell_type": "code",
      "metadata": {
        "id": "PiZzirU9A3Pi"
      },
      "source": [
        "a.fillna(0,inplace=True)                                             # to fill nan value"
      ],
      "execution_count": null,
      "outputs": []
    },
    {
      "cell_type": "code",
      "metadata": {
        "colab": {
          "base_uri": "https://localhost:8080/",
          "height": 477
        },
        "id": "azpYe1puseQG",
        "outputId": "aa972854-0b42-4f68-c81a-8b96e5eab39e"
      },
      "source": [
        "a.head()                                                             # day and hour nan value become 0"
      ],
      "execution_count": null,
      "outputs": [
        {
          "output_type": "execute_result",
          "data": {
            "text/html": [
              "<div>\n",
              "<style scoped>\n",
              "    .dataframe tbody tr th:only-of-type {\n",
              "        vertical-align: middle;\n",
              "    }\n",
              "\n",
              "    .dataframe tbody tr th {\n",
              "        vertical-align: top;\n",
              "    }\n",
              "\n",
              "    .dataframe thead th {\n",
              "        text-align: right;\n",
              "    }\n",
              "</style>\n",
              "<table border=\"1\" class=\"dataframe\">\n",
              "  <thead>\n",
              "    <tr style=\"text-align: right;\">\n",
              "      <th></th>\n",
              "      <th>distance</th>\n",
              "      <th>cab_type</th>\n",
              "      <th>time_stamp</th>\n",
              "      <th>destination</th>\n",
              "      <th>source</th>\n",
              "      <th>price</th>\n",
              "      <th>surge_multiplier</th>\n",
              "      <th>id</th>\n",
              "      <th>product_id</th>\n",
              "      <th>name</th>\n",
              "      <th>datetime</th>\n",
              "      <th>temp</th>\n",
              "      <th>location</th>\n",
              "      <th>clouds</th>\n",
              "      <th>pressure</th>\n",
              "      <th>rain</th>\n",
              "      <th>humidity</th>\n",
              "      <th>wind</th>\n",
              "      <th>date_time</th>\n",
              "      <th>day</th>\n",
              "      <th>hour</th>\n",
              "    </tr>\n",
              "  </thead>\n",
              "  <tbody>\n",
              "    <tr>\n",
              "      <th>0</th>\n",
              "      <td>0.44</td>\n",
              "      <td>Lyft</td>\n",
              "      <td>1544952607890</td>\n",
              "      <td>North Station</td>\n",
              "      <td>Haymarket Square</td>\n",
              "      <td>5.0</td>\n",
              "      <td>1.0</td>\n",
              "      <td>424553bb-7174-41ea-aeb4-fe06d4f4b9d7</td>\n",
              "      <td>lyft_line</td>\n",
              "      <td>Shared</td>\n",
              "      <td>1970-01-01 00:25:44.952607890</td>\n",
              "      <td>0.0</td>\n",
              "      <td>0</td>\n",
              "      <td>0.0</td>\n",
              "      <td>0.0</td>\n",
              "      <td>0.0</td>\n",
              "      <td>0.0</td>\n",
              "      <td>0.0</td>\n",
              "      <td>0</td>\n",
              "      <td>0.0</td>\n",
              "      <td>0.0</td>\n",
              "    </tr>\n",
              "    <tr>\n",
              "      <th>1</th>\n",
              "      <td>0.44</td>\n",
              "      <td>Lyft</td>\n",
              "      <td>1543284023677</td>\n",
              "      <td>North Station</td>\n",
              "      <td>Haymarket Square</td>\n",
              "      <td>11.0</td>\n",
              "      <td>1.0</td>\n",
              "      <td>4bd23055-6827-41c6-b23b-3c491f24e74d</td>\n",
              "      <td>lyft_premier</td>\n",
              "      <td>Lux</td>\n",
              "      <td>1970-01-01 00:25:43.284023677</td>\n",
              "      <td>0.0</td>\n",
              "      <td>0</td>\n",
              "      <td>0.0</td>\n",
              "      <td>0.0</td>\n",
              "      <td>0.0</td>\n",
              "      <td>0.0</td>\n",
              "      <td>0.0</td>\n",
              "      <td>0</td>\n",
              "      <td>0.0</td>\n",
              "      <td>0.0</td>\n",
              "    </tr>\n",
              "    <tr>\n",
              "      <th>2</th>\n",
              "      <td>0.44</td>\n",
              "      <td>Lyft</td>\n",
              "      <td>1543366822198</td>\n",
              "      <td>North Station</td>\n",
              "      <td>Haymarket Square</td>\n",
              "      <td>7.0</td>\n",
              "      <td>1.0</td>\n",
              "      <td>981a3613-77af-4620-a42a-0c0866077d1e</td>\n",
              "      <td>lyft</td>\n",
              "      <td>Lyft</td>\n",
              "      <td>1970-01-01 00:25:43.366822198</td>\n",
              "      <td>0.0</td>\n",
              "      <td>0</td>\n",
              "      <td>0.0</td>\n",
              "      <td>0.0</td>\n",
              "      <td>0.0</td>\n",
              "      <td>0.0</td>\n",
              "      <td>0.0</td>\n",
              "      <td>0</td>\n",
              "      <td>0.0</td>\n",
              "      <td>0.0</td>\n",
              "    </tr>\n",
              "    <tr>\n",
              "      <th>3</th>\n",
              "      <td>0.44</td>\n",
              "      <td>Lyft</td>\n",
              "      <td>1543553582749</td>\n",
              "      <td>North Station</td>\n",
              "      <td>Haymarket Square</td>\n",
              "      <td>26.0</td>\n",
              "      <td>1.0</td>\n",
              "      <td>c2d88af2-d278-4bfd-a8d0-29ca77cc5512</td>\n",
              "      <td>lyft_luxsuv</td>\n",
              "      <td>Lux Black XL</td>\n",
              "      <td>1970-01-01 00:25:43.553582749</td>\n",
              "      <td>0.0</td>\n",
              "      <td>0</td>\n",
              "      <td>0.0</td>\n",
              "      <td>0.0</td>\n",
              "      <td>0.0</td>\n",
              "      <td>0.0</td>\n",
              "      <td>0.0</td>\n",
              "      <td>0</td>\n",
              "      <td>0.0</td>\n",
              "      <td>0.0</td>\n",
              "    </tr>\n",
              "    <tr>\n",
              "      <th>4</th>\n",
              "      <td>0.44</td>\n",
              "      <td>Lyft</td>\n",
              "      <td>1543463360223</td>\n",
              "      <td>North Station</td>\n",
              "      <td>Haymarket Square</td>\n",
              "      <td>9.0</td>\n",
              "      <td>1.0</td>\n",
              "      <td>e0126e1f-8ca9-4f2e-82b3-50505a09db9a</td>\n",
              "      <td>lyft_plus</td>\n",
              "      <td>Lyft XL</td>\n",
              "      <td>1970-01-01 00:25:43.463360223</td>\n",
              "      <td>0.0</td>\n",
              "      <td>0</td>\n",
              "      <td>0.0</td>\n",
              "      <td>0.0</td>\n",
              "      <td>0.0</td>\n",
              "      <td>0.0</td>\n",
              "      <td>0.0</td>\n",
              "      <td>0</td>\n",
              "      <td>0.0</td>\n",
              "      <td>0.0</td>\n",
              "    </tr>\n",
              "  </tbody>\n",
              "</table>\n",
              "</div>"
            ],
            "text/plain": [
              "   distance cab_type     time_stamp    destination  ... wind  date_time  day hour\n",
              "0      0.44     Lyft  1544952607890  North Station  ...  0.0          0  0.0  0.0\n",
              "1      0.44     Lyft  1543284023677  North Station  ...  0.0          0  0.0  0.0\n",
              "2      0.44     Lyft  1543366822198  North Station  ...  0.0          0  0.0  0.0\n",
              "3      0.44     Lyft  1543553582749  North Station  ...  0.0          0  0.0  0.0\n",
              "4      0.44     Lyft  1543463360223  North Station  ...  0.0          0  0.0  0.0\n",
              "\n",
              "[5 rows x 21 columns]"
            ]
          },
          "metadata": {
            "tags": []
          },
          "execution_count": 20
        }
      ]
    },
    {
      "cell_type": "code",
      "metadata": {
        "colab": {
          "base_uri": "https://localhost:8080/"
        },
        "id": "kYeUMkghCuA7",
        "outputId": "0fd23dba-ed6f-4815-bda5-4c916b016100"
      },
      "source": [
        "a.columns"
      ],
      "execution_count": null,
      "outputs": [
        {
          "output_type": "execute_result",
          "data": {
            "text/plain": [
              "Index(['distance', 'cab_type', 'time_stamp', 'destination', 'source', 'price',\n",
              "       'surge_multiplier', 'id', 'product_id', 'name', 'datetime', 'temp',\n",
              "       'location', 'clouds', 'pressure', 'rain', 'humidity', 'wind',\n",
              "       'date_time', 'day', 'hour'],\n",
              "      dtype='object')"
            ]
          },
          "metadata": {
            "tags": []
          },
          "execution_count": 21
        }
      ]
    },
    {
      "cell_type": "code",
      "metadata": {
        "colab": {
          "base_uri": "https://localhost:8080/",
          "height": 188
        },
        "id": "yukc5TfsxYlR",
        "outputId": "f729c838-728d-4e37-a0c2-893adf522fbd"
      },
      "source": [
        "a.groupby('cab_type').count()                                              # to get data of 2 cab services uber and lyft"
      ],
      "execution_count": null,
      "outputs": [
        {
          "output_type": "execute_result",
          "data": {
            "text/html": [
              "<div>\n",
              "<style scoped>\n",
              "    .dataframe tbody tr th:only-of-type {\n",
              "        vertical-align: middle;\n",
              "    }\n",
              "\n",
              "    .dataframe tbody tr th {\n",
              "        vertical-align: top;\n",
              "    }\n",
              "\n",
              "    .dataframe thead th {\n",
              "        text-align: right;\n",
              "    }\n",
              "</style>\n",
              "<table border=\"1\" class=\"dataframe\">\n",
              "  <thead>\n",
              "    <tr style=\"text-align: right;\">\n",
              "      <th></th>\n",
              "      <th>distance</th>\n",
              "      <th>time_stamp</th>\n",
              "      <th>destination</th>\n",
              "      <th>source</th>\n",
              "      <th>price</th>\n",
              "      <th>surge_multiplier</th>\n",
              "      <th>id</th>\n",
              "      <th>product_id</th>\n",
              "      <th>name</th>\n",
              "      <th>datetime</th>\n",
              "      <th>temp</th>\n",
              "      <th>location</th>\n",
              "      <th>clouds</th>\n",
              "      <th>pressure</th>\n",
              "      <th>rain</th>\n",
              "      <th>humidity</th>\n",
              "      <th>wind</th>\n",
              "      <th>date_time</th>\n",
              "      <th>day</th>\n",
              "      <th>hour</th>\n",
              "    </tr>\n",
              "    <tr>\n",
              "      <th>cab_type</th>\n",
              "      <th></th>\n",
              "      <th></th>\n",
              "      <th></th>\n",
              "      <th></th>\n",
              "      <th></th>\n",
              "      <th></th>\n",
              "      <th></th>\n",
              "      <th></th>\n",
              "      <th></th>\n",
              "      <th></th>\n",
              "      <th></th>\n",
              "      <th></th>\n",
              "      <th></th>\n",
              "      <th></th>\n",
              "      <th></th>\n",
              "      <th></th>\n",
              "      <th></th>\n",
              "      <th></th>\n",
              "      <th></th>\n",
              "      <th></th>\n",
              "    </tr>\n",
              "  </thead>\n",
              "  <tbody>\n",
              "    <tr>\n",
              "      <th>0</th>\n",
              "      <td>6276</td>\n",
              "      <td>6276</td>\n",
              "      <td>6276</td>\n",
              "      <td>6276</td>\n",
              "      <td>6276</td>\n",
              "      <td>6276</td>\n",
              "      <td>6276</td>\n",
              "      <td>6276</td>\n",
              "      <td>6276</td>\n",
              "      <td>6276</td>\n",
              "      <td>6276</td>\n",
              "      <td>6276</td>\n",
              "      <td>6276</td>\n",
              "      <td>6276</td>\n",
              "      <td>6276</td>\n",
              "      <td>6276</td>\n",
              "      <td>6276</td>\n",
              "      <td>6276</td>\n",
              "      <td>6276</td>\n",
              "      <td>6276</td>\n",
              "    </tr>\n",
              "    <tr>\n",
              "      <th>Lyft</th>\n",
              "      <td>307408</td>\n",
              "      <td>307408</td>\n",
              "      <td>307408</td>\n",
              "      <td>307408</td>\n",
              "      <td>307408</td>\n",
              "      <td>307408</td>\n",
              "      <td>307408</td>\n",
              "      <td>307408</td>\n",
              "      <td>307408</td>\n",
              "      <td>307408</td>\n",
              "      <td>307408</td>\n",
              "      <td>307408</td>\n",
              "      <td>307408</td>\n",
              "      <td>307408</td>\n",
              "      <td>307408</td>\n",
              "      <td>307408</td>\n",
              "      <td>307408</td>\n",
              "      <td>307408</td>\n",
              "      <td>307408</td>\n",
              "      <td>307408</td>\n",
              "    </tr>\n",
              "    <tr>\n",
              "      <th>Uber</th>\n",
              "      <td>385663</td>\n",
              "      <td>385663</td>\n",
              "      <td>385663</td>\n",
              "      <td>385663</td>\n",
              "      <td>385663</td>\n",
              "      <td>385663</td>\n",
              "      <td>385663</td>\n",
              "      <td>385663</td>\n",
              "      <td>385663</td>\n",
              "      <td>385663</td>\n",
              "      <td>385663</td>\n",
              "      <td>385663</td>\n",
              "      <td>385663</td>\n",
              "      <td>385663</td>\n",
              "      <td>385663</td>\n",
              "      <td>385663</td>\n",
              "      <td>385663</td>\n",
              "      <td>385663</td>\n",
              "      <td>385663</td>\n",
              "      <td>385663</td>\n",
              "    </tr>\n",
              "  </tbody>\n",
              "</table>\n",
              "</div>"
            ],
            "text/plain": [
              "          distance  time_stamp  destination  ...  date_time     day    hour\n",
              "cab_type                                     ...                           \n",
              "0             6276        6276         6276  ...       6276    6276    6276\n",
              "Lyft        307408      307408       307408  ...     307408  307408  307408\n",
              "Uber        385663      385663       385663  ...     385663  385663  385663\n",
              "\n",
              "[3 rows x 20 columns]"
            ]
          },
          "metadata": {
            "tags": []
          },
          "execution_count": 22
        }
      ]
    },
    {
      "cell_type": "code",
      "metadata": {
        "colab": {
          "base_uri": "https://localhost:8080/",
          "height": 405
        },
        "id": "ZnJQ0snXx4ck",
        "outputId": "1b2f1d75-9c24-48e1-e4fa-6c40d1a54031"
      },
      "source": [
        "a.groupby('cab_type').count().plot.bar()"
      ],
      "execution_count": null,
      "outputs": [
        {
          "output_type": "execute_result",
          "data": {
            "text/plain": [
              "<matplotlib.axes._subplots.AxesSubplot at 0x7f6a1d98ee10>"
            ]
          },
          "metadata": {
            "tags": []
          },
          "execution_count": 23
        },
        {
          "output_type": "display_data",
          "data": {
            "image/png": "[encoded data removed]",
            "text/plain": [
              "<Figure size 432x288 with 1 Axes>"
            ]
          },
          "metadata": {
            "tags": [],
            "needs_background": "light"
          }
        }
      ]
    },
    {
      "cell_type": "code",
      "metadata": {
        "colab": {
          "base_uri": "https://localhost:8080/",
          "height": 594
        },
        "id": "ZUvdDKzaswcM",
        "outputId": "76089efe-931d-4e2a-f222-296077f95219"
      },
      "source": [
        "a['price'].value_counts().plot(kind='bar',figsize=(100,50),color='blue')           # price\n"
      ],
      "execution_count": null,
      "outputs": [
        {
          "output_type": "execute_result",
          "data": {
            "text/plain": [
              "<matplotlib.axes._subplots.AxesSubplot at 0x7f6a1d34f9d0>"
            ]
          },
          "metadata": {
            "tags": []
          },
          "execution_count": 25
        },
        {
          "output_type": "display_data",
          "data": {
            "image/png": "[encoded data removed]",
            "text/plain": [
              "<Figure size 7200x3600 with 1 Axes>"
            ]
          },
          "metadata": {
            "tags": [],
            "needs_background": "light"
          }
        }
      ]
    },
    {
      "cell_type": "code",
      "metadata": {
        "colab": {
          "base_uri": "https://localhost:8080/",
          "height": 342
        },
        "id": "BIenWTcstAFK",
        "outputId": "e7dc87d9-8253-45b4-fcd7-fa7a4d2376fa"
      },
      "source": [
        "a['hour'].value_counts().plot(kind='bar',figsize=(10,5),color='blue')              # peak hour\n"
      ],
      "execution_count": null,
      "outputs": [
        {
          "output_type": "execute_result",
          "data": {
            "text/plain": [
              "<matplotlib.axes._subplots.AxesSubplot at 0x7f6a1cfb4a90>"
            ]
          },
          "metadata": {
            "tags": []
          },
          "execution_count": 26
        },
        {
          "output_type": "display_data",
          "data": {
            "image/png": "[encoded data removed]",
            "text/plain": [
              "<Figure size 720x360 with 1 Axes>"
            ]
          },
          "metadata": {
            "tags": [],
            "needs_background": "light"
          }
        }
      ]
    },
    {
      "cell_type": "code",
      "metadata": {
        "colab": {
          "base_uri": "https://localhost:8080/",
          "height": 265
        },
        "id": "A14nANN9tgjp",
        "outputId": "4a20d6d0-c8ba-45a1-d47d-90136085a85a"
      },
      "source": [
        "import matplotlib.pyplot as plt                           # to price and hour varies on graph\n",
        "x=a['hour']\n",
        "y=a['price']\n",
        "plt.plot(x,y)\n",
        "plt.show()\n"
      ],
      "execution_count": null,
      "outputs": [
        {
          "output_type": "display_data",
          "data": {
            "image/png": "[encoded data removed]",
            "text/plain": [
              "<Figure size 432x288 with 1 Axes>"
            ]
          },
          "metadata": {
            "tags": [],
            "needs_background": "light"
          }
        }
      ]
    },
    {
      "cell_type": "code",
      "metadata": {
        "colab": {
          "base_uri": "https://localhost:8080/",
          "height": 265
        },
        "id": "omxIbm70ujgI",
        "outputId": "df67982c-4800-4ef6-a0fb-3c9e0c71c56d"
      },
      "source": [
        "x=a['rain']                                                    # to get connection between rain and price \n",
        "y=a['price']\n",
        "plt.plot(x,y)\n",
        "plt.show()"
      ],
      "execution_count": null,
      "outputs": [
        {
          "output_type": "display_data",
          "data": {
            "image/png": "[encoded data removed]",
            "text/plain": [
              "<Figure size 432x288 with 1 Axes>"
            ]
          },
          "metadata": {
            "tags": [],
            "needs_background": "light"
          }
        }
      ]
    },
    {
      "cell_type": "code",
      "metadata": {
        "colab": {
          "base_uri": "https://localhost:8080/"
        },
        "id": "er2YVt3WygdI",
        "outputId": "fed4acf4-e487-4f5a-fa7b-83b6536f6ba6"
      },
      "source": [
        "a.columns"
      ],
      "execution_count": null,
      "outputs": [
        {
          "output_type": "execute_result",
          "data": {
            "text/plain": [
              "Index(['distance', 'cab_type', 'time_stamp', 'destination', 'source', 'price',\n",
              "       'surge_multiplier', 'id', 'product_id', 'name', 'datetime', 'temp',\n",
              "       'location', 'clouds', 'pressure', 'rain', 'humidity', 'wind',\n",
              "       'date_time', 'day', 'hour'],\n",
              "      dtype='object')"
            ]
          },
          "metadata": {
            "tags": []
          },
          "execution_count": 29
        }
      ]
    },
    {
      "cell_type": "code",
      "metadata": {
        "id": "bmM19hzVA3S9"
      },
      "source": [
        "x1=a[['distance', 'temp', 'pressure', 'humidity','wind','rain','day','hour','surge_multiplier','clouds']]\n",
        "y1=a['price']"
      ],
      "execution_count": null,
      "outputs": []
    },
    {
      "cell_type": "code",
      "metadata": {
        "id": "tNUgnG33C1o6"
      },
      "source": [
        "# Using Skicit-learn to split data into training and testing sets\n",
        "from sklearn.model_selection import train_test_split\n",
        "# Split the data into training and testing sets\n",
        "x_train, y_train, x_test, y_test = train_test_split(x1, y1, test_size = 0.25, random_state =2)"
      ],
      "execution_count": null,
      "outputs": []
    },
    {
      "cell_type": "code",
      "metadata": {
        "colab": {
          "base_uri": "https://localhost:8080/"
        },
        "id": "sxi1YCs-CqPt",
        "outputId": "210330b9-1b44-4412-f3dd-111df0ecd95e"
      },
      "source": [
        "linear=LinearRegression()\n",
        "linear.fit(x_train,x_test)"
      ],
      "execution_count": null,
      "outputs": [
        {
          "output_type": "execute_result",
          "data": {
            "text/plain": [
              "LinearRegression(copy_X=True, fit_intercept=True, n_jobs=None, normalize=False)"
            ]
          },
          "metadata": {
            "tags": []
          },
          "execution_count": 115
        }
      ]
    },
    {
      "cell_type": "code",
      "metadata": {
        "colab": {
          "base_uri": "https://localhost:8080/"
        },
        "id": "SKxfhK2jDKE5",
        "outputId": "47e8a710-2b62-4010-b489-962bd36b5c87"
      },
      "source": [
        "y_pred=linear.predict(y_train)\n",
        "y_pred"
      ],
      "execution_count": null,
      "outputs": [
        {
          "output_type": "execute_result",
          "data": {
            "text/plain": [
              "array([12.06595825, 15.56575739, 16.4026657 , ..., 15.1853442 ,\n",
              "       17.69606971, 15.8954483 ])"
            ]
          },
          "metadata": {
            "tags": []
          },
          "execution_count": 116
        }
      ]
    },
    {
      "cell_type": "code",
      "metadata": {
        "colab": {
          "base_uri": "https://localhost:8080/",
          "height": 649
        },
        "id": "vajKdhZMDQdL",
        "outputId": "e913c920-b23f-484c-f9ac-d8ab690ebac2"
      },
      "source": [
        "df = pd.DataFrame({'Actual': y_test, 'Predicted': y_pred})\n",
        "df.head(20)"
      ],
      "execution_count": null,
      "outputs": [
        {
          "output_type": "execute_result",
          "data": {
            "text/html": [
              "<div>\n",
              "<style scoped>\n",
              "    .dataframe tbody tr th:only-of-type {\n",
              "        vertical-align: middle;\n",
              "    }\n",
              "\n",
              "    .dataframe tbody tr th {\n",
              "        vertical-align: top;\n",
              "    }\n",
              "\n",
              "    .dataframe thead th {\n",
              "        text-align: right;\n",
              "    }\n",
              "</style>\n",
              "<table border=\"1\" class=\"dataframe\">\n",
              "  <thead>\n",
              "    <tr style=\"text-align: right;\">\n",
              "      <th></th>\n",
              "      <th>Actual</th>\n",
              "      <th>Predicted</th>\n",
              "    </tr>\n",
              "  </thead>\n",
              "  <tbody>\n",
              "    <tr>\n",
              "      <th>339805</th>\n",
              "      <td>16.5</td>\n",
              "      <td>12.065958</td>\n",
              "    </tr>\n",
              "    <tr>\n",
              "      <th>383107</th>\n",
              "      <td>16.5</td>\n",
              "      <td>15.565757</td>\n",
              "    </tr>\n",
              "    <tr>\n",
              "      <th>159716</th>\n",
              "      <td>7.0</td>\n",
              "      <td>16.402666</td>\n",
              "    </tr>\n",
              "    <tr>\n",
              "      <th>18443</th>\n",
              "      <td>38.0</td>\n",
              "      <td>17.594626</td>\n",
              "    </tr>\n",
              "    <tr>\n",
              "      <th>104487</th>\n",
              "      <td>11.0</td>\n",
              "      <td>13.207197</td>\n",
              "    </tr>\n",
              "    <tr>\n",
              "      <th>560816</th>\n",
              "      <td>0.0</td>\n",
              "      <td>13.410084</td>\n",
              "    </tr>\n",
              "    <tr>\n",
              "      <th>510908</th>\n",
              "      <td>7.0</td>\n",
              "      <td>10.772554</td>\n",
              "    </tr>\n",
              "    <tr>\n",
              "      <th>456436</th>\n",
              "      <td>10.5</td>\n",
              "      <td>17.062048</td>\n",
              "    </tr>\n",
              "    <tr>\n",
              "      <th>666387</th>\n",
              "      <td>19.5</td>\n",
              "      <td>13.536888</td>\n",
              "    </tr>\n",
              "    <tr>\n",
              "      <th>611739</th>\n",
              "      <td>8.0</td>\n",
              "      <td>11.634824</td>\n",
              "    </tr>\n",
              "    <tr>\n",
              "      <th>351714</th>\n",
              "      <td>42.5</td>\n",
              "      <td>26.648454</td>\n",
              "    </tr>\n",
              "    <tr>\n",
              "      <th>585764</th>\n",
              "      <td>7.0</td>\n",
              "      <td>14.779571</td>\n",
              "    </tr>\n",
              "    <tr>\n",
              "      <th>343376</th>\n",
              "      <td>0.0</td>\n",
              "      <td>17.112770</td>\n",
              "    </tr>\n",
              "    <tr>\n",
              "      <th>171453</th>\n",
              "      <td>9.0</td>\n",
              "      <td>17.467822</td>\n",
              "    </tr>\n",
              "    <tr>\n",
              "      <th>639441</th>\n",
              "      <td>11.0</td>\n",
              "      <td>17.493183</td>\n",
              "    </tr>\n",
              "    <tr>\n",
              "      <th>463442</th>\n",
              "      <td>13.0</td>\n",
              "      <td>13.334001</td>\n",
              "    </tr>\n",
              "    <tr>\n",
              "      <th>223442</th>\n",
              "      <td>33.0</td>\n",
              "      <td>16.428027</td>\n",
              "    </tr>\n",
              "    <tr>\n",
              "      <th>212079</th>\n",
              "      <td>38.0</td>\n",
              "      <td>26.085518</td>\n",
              "    </tr>\n",
              "    <tr>\n",
              "      <th>67556</th>\n",
              "      <td>10.5</td>\n",
              "      <td>15.971531</td>\n",
              "    </tr>\n",
              "    <tr>\n",
              "      <th>372855</th>\n",
              "      <td>8.5</td>\n",
              "      <td>15.616479</td>\n",
              "    </tr>\n",
              "  </tbody>\n",
              "</table>\n",
              "</div>"
            ],
            "text/plain": [
              "        Actual  Predicted\n",
              "339805    16.5  12.065958\n",
              "383107    16.5  15.565757\n",
              "159716     7.0  16.402666\n",
              "18443     38.0  17.594626\n",
              "104487    11.0  13.207197\n",
              "560816     0.0  13.410084\n",
              "510908     7.0  10.772554\n",
              "456436    10.5  17.062048\n",
              "666387    19.5  13.536888\n",
              "611739     8.0  11.634824\n",
              "351714    42.5  26.648454\n",
              "585764     7.0  14.779571\n",
              "343376     0.0  17.112770\n",
              "171453     9.0  17.467822\n",
              "639441    11.0  17.493183\n",
              "463442    13.0  13.334001\n",
              "223442    33.0  16.428027\n",
              "212079    38.0  26.085518\n",
              "67556     10.5  15.971531\n",
              "372855     8.5  15.616479"
            ]
          },
          "metadata": {
            "tags": []
          },
          "execution_count": 117
        }
      ]
    },
    {
      "cell_type": "code",
      "metadata": {
        "colab": {
          "base_uri": "https://localhost:8080/",
          "height": 467
        },
        "id": "1cV3v_cQD2R6",
        "outputId": "e216d641-d3f8-4eb5-fe78-6c5442a4e488"
      },
      "source": [
        "df1 = df.head(25)                                                                 # to visualize actual and predicted \n",
        "df1.plot(kind='bar',figsize=(26,10))\n",
        "plt.grid(which='major', linestyle='-', linewidth='0.5', color='green')\n",
        "plt.grid(which='minor', linestyle=':', linewidth='0.5', color='black')\n",
        "plt.show()"
      ],
      "execution_count": null,
      "outputs": [
        {
          "output_type": "display_data",
          "data": {
            "image/png": "[encoded data removed]",
            "text/plain": [
              "<Figure size 1872x720 with 1 Axes>"
            ]
          },
          "metadata": {
            "tags": [],
            "needs_background": "light"
          }
        }
      ]
    }
  ]
}