{
 "cells": [
  {
   "cell_type": "markdown",
   "metadata": {},
   "source": [
    "# Importing libraries "
   ]
  },
  {
   "cell_type": "code",
   "execution_count": 1,
   "metadata": {},
   "outputs": [],
   "source": [
    "import numpy as np\n",
    "import pandas as pd\n",
    "%matplotlib inline\n",
    "import matplotlib as mpl\n",
    "import matplotlib.pyplot as plt"
   ]
  },
  {
   "cell_type": "code",
   "execution_count": 2,
   "metadata": {},
   "outputs": [],
   "source": [
    "import tensorflow as tf\n",
    "from tensorflow import keras"
   ]
  },
  {
   "cell_type": "markdown",
   "metadata": {},
   "source": [
    "# Importing dataset"
   ]
  },
  {
   "cell_type": "code",
   "execution_count": 1,
   "metadata": {},
   "outputs": [],
   "source": [
    "from sklearn.datasets import fetch_california_housing\n",
    "housing = fetch_california_housing()"
   ]
  },
  {
   "cell_type": "code",
   "execution_count": 4,
   "metadata": {},
   "outputs": [
    {
     "name": "stdout",
     "output_type": "stream",
     "text": [
      "['MedInc', 'HouseAge', 'AveRooms', 'AveBedrms', 'Population', 'AveOccup', 'Latitude', 'Longitude']\n"
     ]
    }
   ],
   "source": [
    "print(housing.feature_names)"
   ]
  },
  {
   "cell_type": "markdown",
   "metadata": {},
   "source": [
    "## spliting in x and y "
   ]
  },
  {
   "cell_type": "code",
   "execution_count": 5,
   "metadata": {},
   "outputs": [],
   "source": [
    "from sklearn.model_selection import train_test_split\n",
    "X_train_full, X_test, y_train_full, y_test = train_test_split(housing.data, housing.target, random_state=42)\n",
    "X_train, X_valid, y_train, y_valid = train_test_split(X_train_full, y_train_full, random_state=42)"
   ]
  },
  {
   "cell_type": "markdown",
   "metadata": {},
   "source": [
    "#### standarization"
   ]
  },
  {
   "cell_type": "code",
   "execution_count": 6,
   "metadata": {},
   "outputs": [],
   "source": [
    "from sklearn.preprocessing import StandardScaler\n",
    "scaler = StandardScaler()\n",
    "X_train = scaler.fit_transform(X_train)\n",
    "X_valid = scaler.transform(X_valid)\n",
    "X_test = scaler.transform(X_test)"
   ]
  },
  {
   "cell_type": "code",
   "execution_count": 7,
   "metadata": {},
   "outputs": [],
   "source": [
    "np.random.seed(42)\n",
    "tf.random.set_seed(42)"
   ]
  },
  {
   "cell_type": "code",
   "execution_count": 8,
   "metadata": {},
   "outputs": [
    {
     "data": {
      "text/plain": [
       "(11610, 8)"
      ]
     },
     "execution_count": 8,
     "metadata": {},
     "output_type": "execute_result"
    }
   ],
   "source": [
    "X_train.shape"
   ]
  },
  {
   "cell_type": "markdown",
   "metadata": {},
   "source": [
    "![](Seq_api.png \"Title\")"
   ]
  },
  {
   "cell_type": "markdown",
   "metadata": {},
   "source": [
    "# model development"
   ]
  },
  {
   "cell_type": "code",
   "execution_count": 9,
   "metadata": {},
   "outputs": [],
   "source": [
    "model = keras.models.Sequential([\n",
    "    keras.layers.Dense(30, activation=\"relu\", input_shape=[8]),  # FOR 1st layer we have to provide input_shape\n",
    "    # no of independent variables in dataset is 8 hence input_shape = 8\n",
    "    keras.layers.Dense(30, activation=\"relu\"),\n",
    "    keras.layers.Dense(1)\n",
    "    # regression problem hence single neuron\n",
    "])\n",
    "# keras.layers.Dense(30, activation=\"relu\", input_shape=X_train.shape[1:])"
   ]
  },
  {
   "cell_type": "code",
   "execution_count": 10,
   "metadata": {},
   "outputs": [
    {
     "name": "stdout",
     "output_type": "stream",
     "text": [
      "Model: \"sequential\"\n",
      "_________________________________________________________________\n",
      " Layer (type)                Output Shape              Param #   \n",
      "=================================================================\n",
      " dense (Dense)               (None, 30)                270       \n",
      "                                                                 \n",
      " dense_1 (Dense)             (None, 30)                930       \n",
      "                                                                 \n",
      " dense_2 (Dense)             (None, 1)                 31        \n",
      "                                                                 \n",
      "=================================================================\n",
      "Total params: 1,231\n",
      "Trainable params: 1,231\n",
      "Non-trainable params: 0\n",
      "_________________________________________________________________\n"
     ]
    }
   ],
   "source": [
    "model.summary()"
   ]
  },
  {
   "cell_type": "code",
   "execution_count": 11,
   "metadata": {},
   "outputs": [
    {
     "name": "stderr",
     "output_type": "stream",
     "text": [
      "C:\\Users\\PRANIL\\anaconda3\\lib\\site-packages\\keras\\optimizer_v2\\gradient_descent.py:102: UserWarning: The `lr` argument is deprecated, use `learning_rate` instead.\n",
      "  super(SGD, self).__init__(name, **kwargs)\n"
     ]
    }
   ],
   "source": [
    "model.compile(loss=\"mean_squared_error\", \n",
    "              optimizer=keras.optimizers.SGD(lr=1e-3), \n",
    "              metrics=['mae'])    # mean absolute error "
   ]
  },
  {
   "cell_type": "code",
   "execution_count": 18,
   "metadata": {},
   "outputs": [
    {
     "name": "stdout",
     "output_type": "stream",
     "text": [
      "Epoch 1/20\n",
      "363/363 [==============================] - 0s 896us/step - loss: 0.3949 - mae: 0.4489 - val_loss: 0.3695 - val_mae: 0.4322\n",
      "Epoch 2/20\n",
      "363/363 [==============================] - 0s 806us/step - loss: 0.3922 - mae: 0.4469 - val_loss: 0.3698 - val_mae: 0.4350\n",
      "Epoch 3/20\n",
      "363/363 [==============================] - 0s 827us/step - loss: 0.3898 - mae: 0.4461 - val_loss: 0.3647 - val_mae: 0.4285\n",
      "Epoch 4/20\n",
      "363/363 [==============================] - 0s 872us/step - loss: 0.3873 - mae: 0.4439 - val_loss: 0.3632 - val_mae: 0.4309\n",
      "Epoch 5/20\n",
      "363/363 [==============================] - 0s 834us/step - loss: 0.3851 - mae: 0.4426 - val_loss: 0.3607 - val_mae: 0.4276\n",
      "Epoch 6/20\n",
      "363/363 [==============================] - 0s 880us/step - loss: 0.3829 - mae: 0.4415 - val_loss: 0.3586 - val_mae: 0.4247\n",
      "Epoch 7/20\n",
      "363/363 [==============================] - 0s 977us/step - loss: 0.3808 - mae: 0.4398 - val_loss: 0.3563 - val_mae: 0.4240\n",
      "Epoch 8/20\n",
      "363/363 [==============================] - 0s 1ms/step - loss: 0.3788 - mae: 0.4385 - val_loss: 0.3559 - val_mae: 0.4228\n",
      "Epoch 9/20\n",
      "363/363 [==============================] - 0s 1ms/step - loss: 0.3768 - mae: 0.4375 - val_loss: 0.3550 - val_mae: 0.4208\n",
      "Epoch 10/20\n",
      "363/363 [==============================] - 0s 1ms/step - loss: 0.3749 - mae: 0.4359 - val_loss: 0.3526 - val_mae: 0.4193\n",
      "Epoch 11/20\n",
      "363/363 [==============================] - 0s 872us/step - loss: 0.3732 - mae: 0.4347 - val_loss: 0.3495 - val_mae: 0.4198\n",
      "Epoch 12/20\n",
      "363/363 [==============================] - 0s 837us/step - loss: 0.3715 - mae: 0.4336 - val_loss: 0.3549 - val_mae: 0.4194\n",
      "Epoch 13/20\n",
      "363/363 [==============================] - 0s 847us/step - loss: 0.3700 - mae: 0.4327 - val_loss: 0.3514 - val_mae: 0.4206\n",
      "Epoch 14/20\n",
      "363/363 [==============================] - 0s 877us/step - loss: 0.3684 - mae: 0.4315 - val_loss: 0.3468 - val_mae: 0.4187\n",
      "Epoch 15/20\n",
      "363/363 [==============================] - 0s 859us/step - loss: 0.3671 - mae: 0.4307 - val_loss: 0.3674 - val_mae: 0.4211\n",
      "Epoch 16/20\n",
      "363/363 [==============================] - 0s 884us/step - loss: 0.3659 - mae: 0.4305 - val_loss: 0.3437 - val_mae: 0.4162\n",
      "Epoch 17/20\n",
      "363/363 [==============================] - 0s 820us/step - loss: 0.3648 - mae: 0.4294 - val_loss: 0.3584 - val_mae: 0.4170\n",
      "Epoch 18/20\n",
      "363/363 [==============================] - 0s 859us/step - loss: 0.3635 - mae: 0.4284 - val_loss: 0.3507 - val_mae: 0.4146\n",
      "Epoch 19/20\n",
      "363/363 [==============================] - 0s 867us/step - loss: 0.3622 - mae: 0.4272 - val_loss: 0.3451 - val_mae: 0.4143\n",
      "Epoch 20/20\n",
      "363/363 [==============================] - 0s 847us/step - loss: 0.3613 - mae: 0.4269 - val_loss: 0.3852 - val_mae: 0.4192\n"
     ]
    }
   ],
   "source": [
    "model_history = model.fit(X_train, y_train, epochs=20, validation_data=(X_valid, y_valid))\n",
    "# running this code for 2 times means running 40 epochs as keras stores values in memory "
   ]
  },
  {
   "cell_type": "code",
   "execution_count": 19,
   "metadata": {},
   "outputs": [
    {
     "name": "stdout",
     "output_type": "stream",
     "text": [
      "162/162 [==============================] - 0s 735us/step - loss: 0.3596 - mae: 0.4269\n"
     ]
    }
   ],
   "source": [
    "mae_test = model.evaluate(X_test, y_test)\n"
   ]
  },
  {
   "cell_type": "markdown",
   "metadata": {},
   "source": [
    "### mean absolute error is 0.4269 and mean square error is 0.3596"
   ]
  },
  {
   "cell_type": "code",
   "execution_count": 20,
   "metadata": {},
   "outputs": [
    {
     "data": {
      "text/plain": [
       "{'loss': [0.3948921859264374,\n",
       "  0.3922426402568817,\n",
       "  0.38980168104171753,\n",
       "  0.3872992992401123,\n",
       "  0.3851175904273987,\n",
       "  0.38287150859832764,\n",
       "  0.3807542622089386,\n",
       "  0.3787875175476074,\n",
       "  0.37684163451194763,\n",
       "  0.3748517632484436,\n",
       "  0.37324920296669006,\n",
       "  0.3715410530567169,\n",
       "  0.3699612319469452,\n",
       "  0.3684478998184204,\n",
       "  0.3671063184738159,\n",
       "  0.36586254835128784,\n",
       "  0.36476606130599976,\n",
       "  0.36347639560699463,\n",
       "  0.36216965317726135,\n",
       "  0.36128607392311096],\n",
       " 'mae': [0.448872447013855,\n",
       "  0.44692230224609375,\n",
       "  0.4460664689540863,\n",
       "  0.4439034163951874,\n",
       "  0.4425695538520813,\n",
       "  0.44146016240119934,\n",
       "  0.4398253858089447,\n",
       "  0.4384708106517792,\n",
       "  0.43753162026405334,\n",
       "  0.43594637513160706,\n",
       "  0.4347257614135742,\n",
       "  0.4335673749446869,\n",
       "  0.4326501488685608,\n",
       "  0.4315134882926941,\n",
       "  0.43066588044166565,\n",
       "  0.4304641783237457,\n",
       "  0.4293918311595917,\n",
       "  0.42838096618652344,\n",
       "  0.4272271990776062,\n",
       "  0.42688849568367004],\n",
       " 'val_loss': [0.3695237636566162,\n",
       "  0.3698018789291382,\n",
       "  0.3646637797355652,\n",
       "  0.3632129728794098,\n",
       "  0.3606773912906647,\n",
       "  0.3586181104183197,\n",
       "  0.35634568333625793,\n",
       "  0.3559177815914154,\n",
       "  0.3549582362174988,\n",
       "  0.3526068925857544,\n",
       "  0.3495008051395416,\n",
       "  0.35492226481437683,\n",
       "  0.35144567489624023,\n",
       "  0.34683677554130554,\n",
       "  0.3674091696739197,\n",
       "  0.34370750188827515,\n",
       "  0.3583530783653259,\n",
       "  0.3506976366043091,\n",
       "  0.3450990617275238,\n",
       "  0.3851732909679413],\n",
       " 'val_mae': [0.43215852975845337,\n",
       "  0.4350142180919647,\n",
       "  0.428478479385376,\n",
       "  0.430883526802063,\n",
       "  0.4276126027107239,\n",
       "  0.42469489574432373,\n",
       "  0.4239875376224518,\n",
       "  0.42283928394317627,\n",
       "  0.4207998812198639,\n",
       "  0.41933920979499817,\n",
       "  0.4198022782802582,\n",
       "  0.41943082213401794,\n",
       "  0.4205619692802429,\n",
       "  0.41871270537376404,\n",
       "  0.42108359932899475,\n",
       "  0.41624128818511963,\n",
       "  0.4169585406780243,\n",
       "  0.4146274924278259,\n",
       "  0.4143194556236267,\n",
       "  0.4191949665546417]}"
      ]
     },
     "execution_count": 20,
     "metadata": {},
     "output_type": "execute_result"
    }
   ],
   "source": [
    "model_history.history  # gives values of this matrices in the form of dictionary "
   ]
  },
  {
   "cell_type": "code",
   "execution_count": 21,
   "metadata": {},
   "outputs": [
    {
     "data": {
      "image/png": "[encoded data removed]",
      "text/plain": [
       "<Figure size 576x360 with 1 Axes>"
      ]
     },
     "metadata": {
      "needs_background": "light"
     },
     "output_type": "display_data"
    }
   ],
   "source": [
    "pd.DataFrame(model_history.history).plot(figsize=(8, 5))\n",
    "plt.grid(True)\n",
    "plt.gca().set_ylim(0, 1)\n",
    "\n",
    "plt.show()"
   ]
  },
  {
   "cell_type": "code",
   "execution_count": 22,
   "metadata": {},
   "outputs": [],
   "source": [
    "X_new = X_test[:3]"
   ]
  },
  {
   "cell_type": "code",
   "execution_count": 23,
   "metadata": {},
   "outputs": [
    {
     "name": "stdout",
     "output_type": "stream",
     "text": [
      "[[0.60721976]\n",
      " [1.8602647 ]\n",
      " [3.792632  ]]\n",
      "[0.477   0.458   5.00001]\n"
     ]
    }
   ],
   "source": [
    "y_pred = model.predict(X_new)\n",
    "print (y_pred)\n",
    "print(y_test[:3])"
   ]
  },
  {
   "cell_type": "code",
   "execution_count": 24,
   "metadata": {},
   "outputs": [],
   "source": [
    "del model"
   ]
  },
  {
   "cell_type": "code",
   "execution_count": 25,
   "metadata": {},
   "outputs": [],
   "source": [
    "keras.backend.clear_session()"
   ]
  },
  {
   "cell_type": "code",
   "execution_count": null,
   "metadata": {},
   "outputs": [],
   "source": []
  },
  {
   "cell_type": "markdown",
   "metadata": {},
   "source": [
    "# Functional API"
   ]
  },
  {
   "cell_type": "markdown",
   "metadata": {},
   "source": [
    "Not all neural network models are simply sequential. Some may have complex topologies. Some may have multiple inputs and/or multiple outputs. For example, a Wide & Deep neural network connects all or part of the inputs directly to the output layer.\n",
    "\n",
    "![](Functional.JPG \"Title\")"
   ]
  },
  {
   "cell_type": "code",
   "execution_count": 26,
   "metadata": {},
   "outputs": [],
   "source": [
    "input_ = keras.layers.Input(shape=X_train.shape[1:])\n",
    "hidden1 = keras.layers.Dense(30, activation=\"relu\")(input_)   # it is called as function hence it is called as fun API\n",
    "hidden2 = keras.layers.Dense(30, activation=\"relu\")(hidden1)\n",
    "concat = keras.layers.concatenate([input_, hidden2])\n",
    "output = keras.layers.Dense(1)(concat)\n",
    "model = keras.models.Model(inputs=[input_], outputs=[output])"
   ]
  },
  {
   "cell_type": "code",
   "execution_count": 27,
   "metadata": {},
   "outputs": [
    {
     "name": "stdout",
     "output_type": "stream",
     "text": [
      "Model: \"model\"\n",
      "__________________________________________________________________________________________________\n",
      " Layer (type)                   Output Shape         Param #     Connected to                     \n",
      "==================================================================================================\n",
      " input_1 (InputLayer)           [(None, 8)]          0           []                               \n",
      "                                                                                                  \n",
      " dense (Dense)                  (None, 30)           270         ['input_1[0][0]']                \n",
      "                                                                                                  \n",
      " dense_1 (Dense)                (None, 30)           930         ['dense[0][0]']                  \n",
      "                                                                                                  \n",
      " concatenate (Concatenate)      (None, 38)           0           ['input_1[0][0]',                \n",
      "                                                                  'dense_1[0][0]']                \n",
      "                                                                                                  \n",
      " dense_2 (Dense)                (None, 1)            39          ['concatenate[0][0]']            \n",
      "                                                                                                  \n",
      "==================================================================================================\n",
      "Total params: 1,239\n",
      "Trainable params: 1,239\n",
      "Non-trainable params: 0\n",
      "__________________________________________________________________________________________________\n"
     ]
    }
   ],
   "source": [
    "model.summary()"
   ]
  },
  {
   "cell_type": "code",
   "execution_count": 28,
   "metadata": {},
   "outputs": [
    {
     "name": "stderr",
     "output_type": "stream",
     "text": [
      "C:\\Users\\PRANIL\\anaconda3\\lib\\site-packages\\keras\\optimizer_v2\\gradient_descent.py:102: UserWarning: The `lr` argument is deprecated, use `learning_rate` instead.\n",
      "  super(SGD, self).__init__(name, **kwargs)\n"
     ]
    }
   ],
   "source": [
    "model.compile(loss=\"mean_squared_error\", \n",
    "              optimizer=keras.optimizers.SGD(lr=1e-3), \n",
    "              metrics=['mae'])"
   ]
  },
  {
   "cell_type": "code",
   "execution_count": 29,
   "metadata": {},
   "outputs": [
    {
     "name": "stdout",
     "output_type": "stream",
     "text": [
      "Epoch 1/80\n",
      "363/363 [==============================] - 1s 1ms/step - loss: 1.6920 - mae: 0.8893 - val_loss: 0.8798 - val_mae: 0.6026\n",
      "Epoch 2/80\n",
      "363/363 [==============================] - 0s 890us/step - loss: 0.6836 - mae: 0.5994 - val_loss: 0.6420 - val_mae: 0.5764\n",
      "Epoch 3/80\n",
      "363/363 [==============================] - 0s 884us/step - loss: 0.6265 - mae: 0.5775 - val_loss: 0.5891 - val_mae: 0.5503\n",
      "Epoch 4/80\n",
      "363/363 [==============================] - 0s 1ms/step - loss: 0.5877 - mae: 0.5581 - val_loss: 0.5455 - val_mae: 0.5343\n",
      "Epoch 5/80\n",
      "363/363 [==============================] - 0s 1ms/step - loss: 0.5566 - mae: 0.5421 - val_loss: 0.5409 - val_mae: 0.5202\n",
      "Epoch 6/80\n",
      "363/363 [==============================] - 0s 1ms/step - loss: 0.5312 - mae: 0.5298 - val_loss: 0.4903 - val_mae: 0.5046\n",
      "Epoch 7/80\n",
      "363/363 [==============================] - 0s 926us/step - loss: 0.5108 - mae: 0.5186 - val_loss: 0.4728 - val_mae: 0.4962\n",
      "Epoch 8/80\n",
      "363/363 [==============================] - 0s 870us/step - loss: 0.4952 - mae: 0.5096 - val_loss: 0.5017 - val_mae: 0.4921\n",
      "Epoch 9/80\n",
      "363/363 [==============================] - 0s 840us/step - loss: 0.4802 - mae: 0.5025 - val_loss: 0.4511 - val_mae: 0.4811\n",
      "Epoch 10/80\n",
      "363/363 [==============================] - 0s 891us/step - loss: 0.4685 - mae: 0.4959 - val_loss: 0.4330 - val_mae: 0.4735\n",
      "Epoch 11/80\n",
      "363/363 [==============================] - 0s 1ms/step - loss: 0.4590 - mae: 0.4897 - val_loss: 0.4991 - val_mae: 0.4778\n",
      "Epoch 12/80\n",
      "363/363 [==============================] - 0s 918us/step - loss: 0.4502 - mae: 0.4851 - val_loss: 0.4179 - val_mae: 0.4658\n",
      "Epoch 13/80\n",
      "363/363 [==============================] - 0s 955us/step - loss: 0.4433 - mae: 0.4811 - val_loss: 0.4409 - val_mae: 0.4658\n",
      "Epoch 14/80\n",
      "363/363 [==============================] - 0s 955us/step - loss: 0.4363 - mae: 0.4766 - val_loss: 0.4239 - val_mae: 0.4621\n",
      "Epoch 15/80\n",
      "363/363 [==============================] - 0s 885us/step - loss: 0.4306 - mae: 0.4736 - val_loss: 0.4480 - val_mae: 0.4601\n",
      "Epoch 16/80\n",
      "363/363 [==============================] - 0s 841us/step - loss: 0.4253 - mae: 0.4703 - val_loss: 0.4113 - val_mae: 0.4550\n",
      "Epoch 17/80\n",
      "363/363 [==============================] - 0s 856us/step - loss: 0.4213 - mae: 0.4676 - val_loss: 0.4454 - val_mae: 0.4538\n",
      "Epoch 18/80\n",
      "363/363 [==============================] - 0s 866us/step - loss: 0.4168 - mae: 0.4650 - val_loss: 0.4537 - val_mae: 0.4518\n",
      "Epoch 19/80\n",
      "363/363 [==============================] - 0s 983us/step - loss: 0.4126 - mae: 0.4616 - val_loss: 0.4084 - val_mae: 0.4477\n",
      "Epoch 20/80\n",
      "363/363 [==============================] - 0s 961us/step - loss: 0.4096 - mae: 0.4600 - val_loss: 0.4581 - val_mae: 0.4505\n",
      "Epoch 21/80\n",
      "363/363 [==============================] - 0s 974us/step - loss: 0.4060 - mae: 0.4573 - val_loss: 0.4267 - val_mae: 0.4487\n",
      "Epoch 22/80\n",
      "363/363 [==============================] - 0s 857us/step - loss: 0.4029 - mae: 0.4559 - val_loss: 0.4677 - val_mae: 0.4485\n",
      "Epoch 23/80\n",
      "363/363 [==============================] - 0s 879us/step - loss: 0.4000 - mae: 0.4542 - val_loss: 0.3940 - val_mae: 0.4390\n",
      "Epoch 24/80\n",
      "363/363 [==============================] - 0s 861us/step - loss: 0.3972 - mae: 0.4515 - val_loss: 0.4277 - val_mae: 0.4410\n",
      "Epoch 25/80\n",
      "363/363 [==============================] - 0s 845us/step - loss: 0.3946 - mae: 0.4502 - val_loss: 0.4414 - val_mae: 0.4412\n",
      "Epoch 26/80\n",
      "363/363 [==============================] - 0s 863us/step - loss: 0.3925 - mae: 0.4488 - val_loss: 0.4365 - val_mae: 0.4393\n",
      "Epoch 27/80\n",
      "363/363 [==============================] - 0s 859us/step - loss: 0.3905 - mae: 0.4472 - val_loss: 0.3854 - val_mae: 0.4354\n",
      "Epoch 28/80\n",
      "363/363 [==============================] - 0s 846us/step - loss: 0.3885 - mae: 0.4455 - val_loss: 0.4330 - val_mae: 0.4401\n",
      "Epoch 29/80\n",
      "363/363 [==============================] - 0s 869us/step - loss: 0.3867 - mae: 0.4448 - val_loss: 0.4135 - val_mae: 0.4373\n",
      "Epoch 30/80\n",
      "363/363 [==============================] - 0s 908us/step - loss: 0.3848 - mae: 0.4435 - val_loss: 0.4344 - val_mae: 0.4358\n",
      "Epoch 31/80\n",
      "363/363 [==============================] - 0s 866us/step - loss: 0.3830 - mae: 0.4420 - val_loss: 0.4016 - val_mae: 0.4332\n",
      "Epoch 32/80\n",
      "363/363 [==============================] - 0s 870us/step - loss: 0.3816 - mae: 0.4410 - val_loss: 0.4459 - val_mae: 0.4380\n",
      "Epoch 33/80\n",
      "363/363 [==============================] - 0s 855us/step - loss: 0.3805 - mae: 0.4408 - val_loss: 0.3866 - val_mae: 0.4319\n",
      "Epoch 34/80\n",
      "363/363 [==============================] - 0s 928us/step - loss: 0.3787 - mae: 0.4393 - val_loss: 0.3923 - val_mae: 0.4323\n",
      "Epoch 35/80\n",
      "363/363 [==============================] - 0s 931us/step - loss: 0.3776 - mae: 0.4383 - val_loss: 0.4512 - val_mae: 0.4358\n",
      "Epoch 36/80\n",
      "363/363 [==============================] - 0s 991us/step - loss: 0.3763 - mae: 0.4379 - val_loss: 0.3639 - val_mae: 0.4268\n",
      "Epoch 37/80\n",
      "363/363 [==============================] - 0s 983us/step - loss: 0.3751 - mae: 0.4365 - val_loss: 0.4068 - val_mae: 0.4309\n",
      "Epoch 38/80\n",
      "363/363 [==============================] - 0s 912us/step - loss: 0.3741 - mae: 0.4362 - val_loss: 0.3776 - val_mae: 0.4276\n",
      "Epoch 39/80\n",
      "363/363 [==============================] - 0s 911us/step - loss: 0.3728 - mae: 0.4352 - val_loss: 0.3774 - val_mae: 0.4266\n",
      "Epoch 40/80\n",
      "363/363 [==============================] - 0s 862us/step - loss: 0.3716 - mae: 0.4345 - val_loss: 0.3940 - val_mae: 0.4262\n",
      "Epoch 41/80\n",
      "363/363 [==============================] - 0s 866us/step - loss: 0.3711 - mae: 0.4334 - val_loss: 0.4017 - val_mae: 0.4280\n",
      "Epoch 42/80\n",
      "363/363 [==============================] - 0s 879us/step - loss: 0.3703 - mae: 0.4335 - val_loss: 0.4094 - val_mae: 0.4276\n",
      "Epoch 43/80\n",
      "363/363 [==============================] - 0s 855us/step - loss: 0.3690 - mae: 0.4321 - val_loss: 0.4116 - val_mae: 0.4270\n",
      "Epoch 44/80\n",
      "363/363 [==============================] - 0s 869us/step - loss: 0.3680 - mae: 0.4314 - val_loss: 0.4304 - val_mae: 0.4296\n",
      "Epoch 45/80\n",
      "363/363 [==============================] - 0s 858us/step - loss: 0.3677 - mae: 0.4317 - val_loss: 0.3712 - val_mae: 0.4226\n",
      "Epoch 46/80\n",
      "363/363 [==============================] - 0s 862us/step - loss: 0.3664 - mae: 0.4298 - val_loss: 0.3859 - val_mae: 0.4252\n",
      "Epoch 47/80\n",
      "363/363 [==============================] - 0s 876us/step - loss: 0.3657 - mae: 0.4303 - val_loss: 0.3766 - val_mae: 0.4222\n",
      "Epoch 48/80\n",
      "363/363 [==============================] - 0s 862us/step - loss: 0.3648 - mae: 0.4289 - val_loss: 0.4172 - val_mae: 0.4262\n",
      "Epoch 49/80\n",
      "363/363 [==============================] - 0s 839us/step - loss: 0.3645 - mae: 0.4290 - val_loss: 0.3608 - val_mae: 0.4219\n",
      "Epoch 50/80\n",
      "363/363 [==============================] - 0s 992us/step - loss: 0.3633 - mae: 0.4282 - val_loss: 0.3503 - val_mae: 0.4188\n",
      "Epoch 51/80\n",
      "363/363 [==============================] - 0s 943us/step - loss: 0.3625 - mae: 0.4271 - val_loss: 0.3998 - val_mae: 0.4252\n",
      "Epoch 52/80\n",
      "363/363 [==============================] - 0s 1ms/step - loss: 0.3619 - mae: 0.4272 - val_loss: 0.3504 - val_mae: 0.4176\n",
      "Epoch 53/80\n",
      "363/363 [==============================] - 0s 899us/step - loss: 0.3611 - mae: 0.4263 - val_loss: 0.4264 - val_mae: 0.4234\n",
      "Epoch 54/80\n",
      "363/363 [==============================] - 0s 868us/step - loss: 0.3606 - mae: 0.4259 - val_loss: 0.3472 - val_mae: 0.4186\n",
      "Epoch 55/80\n",
      "363/363 [==============================] - 0s 844us/step - loss: 0.3598 - mae: 0.4258 - val_loss: 0.3643 - val_mae: 0.4182\n",
      "Epoch 56/80\n",
      "363/363 [==============================] - 0s 854us/step - loss: 0.3590 - mae: 0.4248 - val_loss: 0.3638 - val_mae: 0.4185\n",
      "Epoch 57/80\n",
      "363/363 [==============================] - 0s 851us/step - loss: 0.3584 - mae: 0.4246 - val_loss: 0.3478 - val_mae: 0.4157\n",
      "Epoch 58/80\n",
      "363/363 [==============================] - 0s 895us/step - loss: 0.3576 - mae: 0.4236 - val_loss: 0.4113 - val_mae: 0.4197\n",
      "Epoch 59/80\n",
      "363/363 [==============================] - 0s 954us/step - loss: 0.3575 - mae: 0.4237 - val_loss: 0.3814 - val_mae: 0.4191\n",
      "Epoch 60/80\n",
      "363/363 [==============================] - 0s 1ms/step - loss: 0.3567 - mae: 0.4231 - val_loss: 0.3610 - val_mae: 0.4184\n",
      "Epoch 61/80\n",
      "363/363 [==============================] - 0s 890us/step - loss: 0.3557 - mae: 0.4223 - val_loss: 0.3885 - val_mae: 0.4229\n"
     ]
    },
    {
     "name": "stdout",
     "output_type": "stream",
     "text": [
      "Epoch 62/80\n",
      "363/363 [==============================] - 0s 846us/step - loss: 0.3556 - mae: 0.4225 - val_loss: 0.3695 - val_mae: 0.4167\n",
      "Epoch 63/80\n",
      "363/363 [==============================] - 0s 891us/step - loss: 0.3543 - mae: 0.4214 - val_loss: 0.3630 - val_mae: 0.4180\n",
      "Epoch 64/80\n",
      "363/363 [==============================] - 0s 881us/step - loss: 0.3544 - mae: 0.4217 - val_loss: 0.3433 - val_mae: 0.4145\n",
      "Epoch 65/80\n",
      "363/363 [==============================] - 0s 931us/step - loss: 0.3537 - mae: 0.4213 - val_loss: 0.3548 - val_mae: 0.4143\n",
      "Epoch 66/80\n",
      "363/363 [==============================] - 0s 877us/step - loss: 0.3530 - mae: 0.4206 - val_loss: 0.3570 - val_mae: 0.4142\n",
      "Epoch 67/80\n",
      "363/363 [==============================] - 0s 914us/step - loss: 0.3524 - mae: 0.4202 - val_loss: 0.3722 - val_mae: 0.4162\n",
      "Epoch 68/80\n",
      "363/363 [==============================] - 0s 833us/step - loss: 0.3520 - mae: 0.4198 - val_loss: 0.3612 - val_mae: 0.4137\n",
      "Epoch 69/80\n",
      "363/363 [==============================] - 0s 957us/step - loss: 0.3515 - mae: 0.4189 - val_loss: 0.3507 - val_mae: 0.4146\n",
      "Epoch 70/80\n",
      "363/363 [==============================] - 0s 818us/step - loss: 0.3506 - mae: 0.4192 - val_loss: 0.3817 - val_mae: 0.4138\n",
      "Epoch 71/80\n",
      "363/363 [==============================] - 0s 909us/step - loss: 0.3507 - mae: 0.4188 - val_loss: 0.3771 - val_mae: 0.4150\n",
      "Epoch 72/80\n",
      "363/363 [==============================] - 0s 954us/step - loss: 0.3500 - mae: 0.4185 - val_loss: 0.3627 - val_mae: 0.4125\n",
      "Epoch 73/80\n",
      "363/363 [==============================] - 0s 993us/step - loss: 0.3490 - mae: 0.4179 - val_loss: 0.3357 - val_mae: 0.4089\n",
      "Epoch 74/80\n",
      "363/363 [==============================] - 0s 914us/step - loss: 0.3492 - mae: 0.4176 - val_loss: 0.3910 - val_mae: 0.4142\n",
      "Epoch 75/80\n",
      "363/363 [==============================] - 0s 788us/step - loss: 0.3484 - mae: 0.4168 - val_loss: 0.3896 - val_mae: 0.4159\n",
      "Epoch 76/80\n",
      "363/363 [==============================] - 0s 822us/step - loss: 0.3481 - mae: 0.4171 - val_loss: 0.3492 - val_mae: 0.4099\n",
      "Epoch 77/80\n",
      "363/363 [==============================] - 0s 878us/step - loss: 0.3472 - mae: 0.4159 - val_loss: 0.3888 - val_mae: 0.4151\n",
      "Epoch 78/80\n",
      "363/363 [==============================] - 0s 851us/step - loss: 0.3469 - mae: 0.4166 - val_loss: 0.3658 - val_mae: 0.4123\n",
      "Epoch 79/80\n",
      "363/363 [==============================] - 0s 885us/step - loss: 0.3463 - mae: 0.4157 - val_loss: 0.3637 - val_mae: 0.4115\n",
      "Epoch 80/80\n",
      "363/363 [==============================] - 0s 910us/step - loss: 0.3458 - mae: 0.4156 - val_loss: 0.3646 - val_mae: 0.4104\n"
     ]
    }
   ],
   "source": [
    "model_history = model.fit(X_train, y_train, epochs=80, validation_data=(X_valid, y_valid))"
   ]
  },
  {
   "cell_type": "code",
   "execution_count": 30,
   "metadata": {},
   "outputs": [
    {
     "name": "stdout",
     "output_type": "stream",
     "text": [
      "162/162 [==============================] - 0s 648us/step - loss: 0.3453 - mae: 0.4147\n"
     ]
    }
   ],
   "source": [
    "mae_test = model.evaluate(X_test, y_test)\n"
   ]
  },
  {
   "cell_type": "markdown",
   "metadata": {},
   "source": [
    "### mean absolute error is 0.4147 and mean square error is 0.3453"
   ]
  },
  {
   "cell_type": "code",
   "execution_count": 31,
   "metadata": {},
   "outputs": [
    {
     "data": {
      "text/plain": [
       "{'loss': [1.6920058727264404,\n",
       "  0.6836402416229248,\n",
       "  0.626488208770752,\n",
       "  0.5877465605735779,\n",
       "  0.5565561056137085,\n",
       "  0.5311980247497559,\n",
       "  0.5107864141464233,\n",
       "  0.4951668083667755,\n",
       "  0.4802228510379791,\n",
       "  0.4684668779373169,\n",
       "  0.45896390080451965,\n",
       "  0.45022013783454895,\n",
       "  0.4432655870914459,\n",
       "  0.4363251030445099,\n",
       "  0.4306240975856781,\n",
       "  0.42534440755844116,\n",
       "  0.4212935268878937,\n",
       "  0.41681814193725586,\n",
       "  0.4126456081867218,\n",
       "  0.4095860719680786,\n",
       "  0.40596330165863037,\n",
       "  0.4029441177845001,\n",
       "  0.4000454246997833,\n",
       "  0.3971883952617645,\n",
       "  0.3946213722229004,\n",
       "  0.39249086380004883,\n",
       "  0.3904934525489807,\n",
       "  0.38845276832580566,\n",
       "  0.3867104947566986,\n",
       "  0.38484394550323486,\n",
       "  0.38295263051986694,\n",
       "  0.3815838396549225,\n",
       "  0.38052698969841003,\n",
       "  0.3787004351615906,\n",
       "  0.3775610029697418,\n",
       "  0.3762996792793274,\n",
       "  0.3750821352005005,\n",
       "  0.3740888237953186,\n",
       "  0.37281912565231323,\n",
       "  0.37164339423179626,\n",
       "  0.37105101346969604,\n",
       "  0.37027257680892944,\n",
       "  0.36904579401016235,\n",
       "  0.3680413067340851,\n",
       "  0.36773180961608887,\n",
       "  0.3663593530654907,\n",
       "  0.3656557500362396,\n",
       "  0.36475399136543274,\n",
       "  0.36454951763153076,\n",
       "  0.36326438188552856,\n",
       "  0.36249008774757385,\n",
       "  0.3619101643562317,\n",
       "  0.36111924052238464,\n",
       "  0.3606095016002655,\n",
       "  0.359813392162323,\n",
       "  0.3589715361595154,\n",
       "  0.35839781165122986,\n",
       "  0.35761627554893494,\n",
       "  0.3574795722961426,\n",
       "  0.3566703200340271,\n",
       "  0.35566195845603943,\n",
       "  0.355612576007843,\n",
       "  0.354291707277298,\n",
       "  0.3543755114078522,\n",
       "  0.35372301936149597,\n",
       "  0.35298994183540344,\n",
       "  0.35240495204925537,\n",
       "  0.3519921600818634,\n",
       "  0.3515494763851166,\n",
       "  0.35064268112182617,\n",
       "  0.3507109582424164,\n",
       "  0.3499624729156494,\n",
       "  0.3490365743637085,\n",
       "  0.3492145538330078,\n",
       "  0.3483911454677582,\n",
       "  0.34808456897735596,\n",
       "  0.34721192717552185,\n",
       "  0.346910685300827,\n",
       "  0.34630489349365234,\n",
       "  0.34584566950798035],\n",
       " 'mae': [0.8892966508865356,\n",
       "  0.5993583798408508,\n",
       "  0.577479362487793,\n",
       "  0.558142364025116,\n",
       "  0.542133629322052,\n",
       "  0.529751718044281,\n",
       "  0.518592119216919,\n",
       "  0.5096290707588196,\n",
       "  0.5025359988212585,\n",
       "  0.4959278404712677,\n",
       "  0.4896956980228424,\n",
       "  0.48507025837898254,\n",
       "  0.48114851117134094,\n",
       "  0.47656989097595215,\n",
       "  0.47358405590057373,\n",
       "  0.4702601432800293,\n",
       "  0.4676000773906708,\n",
       "  0.4649645686149597,\n",
       "  0.46159082651138306,\n",
       "  0.46004408597946167,\n",
       "  0.45732980966567993,\n",
       "  0.4559226632118225,\n",
       "  0.4541971981525421,\n",
       "  0.4514613151550293,\n",
       "  0.45023712515830994,\n",
       "  0.4487706422805786,\n",
       "  0.447237104177475,\n",
       "  0.44550415873527527,\n",
       "  0.44481360912323,\n",
       "  0.4434996247291565,\n",
       "  0.4420064389705658,\n",
       "  0.44095098972320557,\n",
       "  0.4407837688922882,\n",
       "  0.4392606019973755,\n",
       "  0.4382893145084381,\n",
       "  0.4378648102283478,\n",
       "  0.43653449416160583,\n",
       "  0.4362204670906067,\n",
       "  0.4352169930934906,\n",
       "  0.43449121713638306,\n",
       "  0.433448851108551,\n",
       "  0.4334526062011719,\n",
       "  0.4321359694004059,\n",
       "  0.43142709136009216,\n",
       "  0.43174421787261963,\n",
       "  0.4297657608985901,\n",
       "  0.43030887842178345,\n",
       "  0.42894792556762695,\n",
       "  0.42897480726242065,\n",
       "  0.4281558692455292,\n",
       "  0.42705217003822327,\n",
       "  0.4271692931652069,\n",
       "  0.4263034760951996,\n",
       "  0.42586106061935425,\n",
       "  0.4257625341415405,\n",
       "  0.4248199462890625,\n",
       "  0.42457231879234314,\n",
       "  0.4236447513103485,\n",
       "  0.42368656396865845,\n",
       "  0.4231063425540924,\n",
       "  0.422329843044281,\n",
       "  0.4225388765335083,\n",
       "  0.4214153587818146,\n",
       "  0.42169272899627686,\n",
       "  0.4213455319404602,\n",
       "  0.4206323027610779,\n",
       "  0.4201696813106537,\n",
       "  0.41982534527778625,\n",
       "  0.4188852608203888,\n",
       "  0.41921284794807434,\n",
       "  0.418799489736557,\n",
       "  0.4185211956501007,\n",
       "  0.4179462492465973,\n",
       "  0.4176025986671448,\n",
       "  0.416831374168396,\n",
       "  0.4171178936958313,\n",
       "  0.4158971905708313,\n",
       "  0.4165540337562561,\n",
       "  0.415727823972702,\n",
       "  0.4156098961830139],\n",
       " 'val_loss': [0.8797987103462219,\n",
       "  0.6420254111289978,\n",
       "  0.589079737663269,\n",
       "  0.54546719789505,\n",
       "  0.5408936142921448,\n",
       "  0.4903126060962677,\n",
       "  0.4728315770626068,\n",
       "  0.5017253160476685,\n",
       "  0.451064795255661,\n",
       "  0.4330177903175354,\n",
       "  0.4991108477115631,\n",
       "  0.4179278314113617,\n",
       "  0.44088876247406006,\n",
       "  0.4238821268081665,\n",
       "  0.4480248987674713,\n",
       "  0.41133445501327515,\n",
       "  0.4454249143600464,\n",
       "  0.45374637842178345,\n",
       "  0.40842658281326294,\n",
       "  0.45806536078453064,\n",
       "  0.4266926944255829,\n",
       "  0.46774592995643616,\n",
       "  0.3939915597438812,\n",
       "  0.42766427993774414,\n",
       "  0.44141507148742676,\n",
       "  0.4365401268005371,\n",
       "  0.3854198753833771,\n",
       "  0.43295976519584656,\n",
       "  0.4135218560695648,\n",
       "  0.4343792200088501,\n",
       "  0.4016262888908386,\n",
       "  0.4458604156970978,\n",
       "  0.3866463601589203,\n",
       "  0.3922860324382782,\n",
       "  0.4512174129486084,\n",
       "  0.36394190788269043,\n",
       "  0.40684083104133606,\n",
       "  0.3775958716869354,\n",
       "  0.37737974524497986,\n",
       "  0.3939821422100067,\n",
       "  0.40174436569213867,\n",
       "  0.4093751311302185,\n",
       "  0.4115789532661438,\n",
       "  0.4304344058036804,\n",
       "  0.37124699354171753,\n",
       "  0.38594508171081543,\n",
       "  0.376621276140213,\n",
       "  0.41722801327705383,\n",
       "  0.3608132600784302,\n",
       "  0.35033348202705383,\n",
       "  0.39983049035072327,\n",
       "  0.3504493236541748,\n",
       "  0.42643481492996216,\n",
       "  0.34721481800079346,\n",
       "  0.36430490016937256,\n",
       "  0.3637969195842743,\n",
       "  0.3478027284145355,\n",
       "  0.4113091826438904,\n",
       "  0.3814261853694916,\n",
       "  0.361044704914093,\n",
       "  0.3885051906108856,\n",
       "  0.36948466300964355,\n",
       "  0.3630331754684448,\n",
       "  0.3432607054710388,\n",
       "  0.3548126518726349,\n",
       "  0.3569658100605011,\n",
       "  0.3722228407859802,\n",
       "  0.3611903190612793,\n",
       "  0.35067328810691833,\n",
       "  0.3817104697227478,\n",
       "  0.37713193893432617,\n",
       "  0.36266282200813293,\n",
       "  0.33566221594810486,\n",
       "  0.39102813601493835,\n",
       "  0.3895629048347473,\n",
       "  0.3491787314414978,\n",
       "  0.3887530267238617,\n",
       "  0.36582818627357483,\n",
       "  0.3637012243270874,\n",
       "  0.36463257670402527],\n",
       " 'val_mae': [0.6026318669319153,\n",
       "  0.5763723850250244,\n",
       "  0.5502772331237793,\n",
       "  0.534281313419342,\n",
       "  0.5201656818389893,\n",
       "  0.5045694708824158,\n",
       "  0.49619969725608826,\n",
       "  0.49206578731536865,\n",
       "  0.48105910420417786,\n",
       "  0.47347646951675415,\n",
       "  0.4778074026107788,\n",
       "  0.46584856510162354,\n",
       "  0.46577662229537964,\n",
       "  0.4620625376701355,\n",
       "  0.46006855368614197,\n",
       "  0.4549531042575836,\n",
       "  0.4538361132144928,\n",
       "  0.45184800028800964,\n",
       "  0.4477086663246155,\n",
       "  0.45054298639297485,\n",
       "  0.44869232177734375,\n",
       "  0.4484681189060211,\n",
       "  0.4389905333518982,\n",
       "  0.4409761428833008,\n",
       "  0.4411562383174896,\n",
       "  0.4393332004547119,\n",
       "  0.43537744879722595,\n",
       "  0.44010308384895325,\n",
       "  0.43728289008140564,\n",
       "  0.43581831455230713,\n",
       "  0.43319469690322876,\n",
       "  0.4379950165748596,\n",
       "  0.43194225430488586,\n",
       "  0.4322570264339447,\n",
       "  0.43577542901039124,\n",
       "  0.42683690786361694,\n",
       "  0.4309115707874298,\n",
       "  0.4276334047317505,\n",
       "  0.4266054630279541,\n",
       "  0.4261508882045746,\n",
       "  0.4280356168746948,\n",
       "  0.42759138345718384,\n",
       "  0.4270036518573761,\n",
       "  0.4296358525753021,\n",
       "  0.4225909113883972,\n",
       "  0.42522457242012024,\n",
       "  0.4221592843532562,\n",
       "  0.42619651556015015,\n",
       "  0.4218800961971283,\n",
       "  0.4188309907913208,\n",
       "  0.4252191483974457,\n",
       "  0.4175906777381897,\n",
       "  0.42341914772987366,\n",
       "  0.41863372921943665,\n",
       "  0.41823065280914307,\n",
       "  0.41850587725639343,\n",
       "  0.4156740605831146,\n",
       "  0.41969817876815796,\n",
       "  0.4191420376300812,\n",
       "  0.4183882772922516,\n",
       "  0.4228895604610443,\n",
       "  0.41666772961616516,\n",
       "  0.4180005192756653,\n",
       "  0.41445836424827576,\n",
       "  0.4143374562263489,\n",
       "  0.41422799229621887,\n",
       "  0.4162187874317169,\n",
       "  0.4136619567871094,\n",
       "  0.41456732153892517,\n",
       "  0.4137607216835022,\n",
       "  0.41501209139823914,\n",
       "  0.41253727674484253,\n",
       "  0.4088854193687439,\n",
       "  0.4141521751880646,\n",
       "  0.41589316725730896,\n",
       "  0.4098818004131317,\n",
       "  0.41512665152549744,\n",
       "  0.4123404622077942,\n",
       "  0.41145095229148865,\n",
       "  0.4103702902793884]}"
      ]
     },
     "execution_count": 31,
     "metadata": {},
     "output_type": "execute_result"
    }
   ],
   "source": [
    "model_history.history"
   ]
  },
  {
   "cell_type": "code",
   "execution_count": 32,
   "metadata": {
    "scrolled": true
   },
   "outputs": [
    {
     "data": {
      "image/png": "[encoded data removed]",
      "text/plain": [
       "<Figure size 576x360 with 1 Axes>"
      ]
     },
     "metadata": {
      "needs_background": "light"
     },
     "output_type": "display_data"
    }
   ],
   "source": [
    "pd.DataFrame(model_history.history).plot(figsize=(8, 5))\n",
    "plt.grid(True)\n",
    "plt.gca().set_ylim(0, 1)\n",
    "\n",
    "plt.show()"
   ]
  },
  {
   "cell_type": "code",
   "execution_count": null,
   "metadata": {},
   "outputs": [],
   "source": []
  }
 ],
 "metadata": {
  "kernelspec": {
   "display_name": "Python 3",
   "language": "python",
   "name": "python3"
  },
  "language_info": {
   "codemirror_mode": {
    "name": "ipython",
    "version": 3
   },
   "file_extension": ".py",
   "mimetype": "text/x-python",
   "name": "python",
   "nbconvert_exporter": "python",
   "pygments_lexer": "ipython3",
   "version": "3.8.5"
  }
 },
 "nbformat": 4,
 "nbformat_minor": 2
}
