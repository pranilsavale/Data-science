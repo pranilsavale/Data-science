{
 "cells": [
  {
   "cell_type": "markdown",
   "metadata": {},
   "source": [
    "## Importing libraries"
   ]
  },
  {
   "cell_type": "code",
   "execution_count": 1,
   "metadata": {},
   "outputs": [],
   "source": [
    "from keras.models import Sequential\n",
    "from keras.layers import Dense\n",
    "from keras.wrappers.scikit_learn import KerasRegressor\n",
    "from sklearn.model_selection import cross_val_score\n",
    "from sklearn.model_selection import train_test_split\n",
    "import pandas as pd\n",
    "import numpy as np"
   ]
  },
  {
   "cell_type": "markdown",
   "metadata": {},
   "source": [
    "## Load dataset"
   ]
  },
  {
   "cell_type": "code",
   "execution_count": 2,
   "metadata": {},
   "outputs": [],
   "source": [
    "data_df = pd.read_csv(r\"C:\\Users\\PRANIL\\OneDrive\\Desktop\\delamnew.csv\")"
   ]
  },
  {
   "cell_type": "code",
   "execution_count": 3,
   "metadata": {},
   "outputs": [
    {
     "data": {
      "text/html": [
       "<div>\n",
       "<style scoped>\n",
       "    .dataframe tbody tr th:only-of-type {\n",
       "        vertical-align: middle;\n",
       "    }\n",
       "\n",
       "    .dataframe tbody tr th {\n",
       "        vertical-align: top;\n",
       "    }\n",
       "\n",
       "    .dataframe thead th {\n",
       "        text-align: right;\n",
       "    }\n",
       "</style>\n",
       "<table border=\"1\" class=\"dataframe\">\n",
       "  <thead>\n",
       "    <tr style=\"text-align: right;\">\n",
       "      <th></th>\n",
       "      <th>drillbit_dia</th>\n",
       "      <th>speed</th>\n",
       "      <th>feed</th>\n",
       "      <th>delam</th>\n",
       "    </tr>\n",
       "  </thead>\n",
       "  <tbody>\n",
       "    <tr>\n",
       "      <th>0</th>\n",
       "      <td>8</td>\n",
       "      <td>800</td>\n",
       "      <td>0.05</td>\n",
       "      <td>8.53</td>\n",
       "    </tr>\n",
       "    <tr>\n",
       "      <th>1</th>\n",
       "      <td>8</td>\n",
       "      <td>800</td>\n",
       "      <td>0.10</td>\n",
       "      <td>8.00</td>\n",
       "    </tr>\n",
       "    <tr>\n",
       "      <th>2</th>\n",
       "      <td>8</td>\n",
       "      <td>800</td>\n",
       "      <td>0.15</td>\n",
       "      <td>8.13</td>\n",
       "    </tr>\n",
       "    <tr>\n",
       "      <th>3</th>\n",
       "      <td>8</td>\n",
       "      <td>800</td>\n",
       "      <td>0.20</td>\n",
       "      <td>8.27</td>\n",
       "    </tr>\n",
       "    <tr>\n",
       "      <th>4</th>\n",
       "      <td>8</td>\n",
       "      <td>800</td>\n",
       "      <td>0.25</td>\n",
       "      <td>8.00</td>\n",
       "    </tr>\n",
       "    <tr>\n",
       "      <th>...</th>\n",
       "      <td>...</td>\n",
       "      <td>...</td>\n",
       "      <td>...</td>\n",
       "      <td>...</td>\n",
       "    </tr>\n",
       "    <tr>\n",
       "      <th>95</th>\n",
       "      <td>8</td>\n",
       "      <td>3600</td>\n",
       "      <td>0.30</td>\n",
       "      <td>11.32</td>\n",
       "    </tr>\n",
       "    <tr>\n",
       "      <th>96</th>\n",
       "      <td>8</td>\n",
       "      <td>3600</td>\n",
       "      <td>0.35</td>\n",
       "      <td>8.25</td>\n",
       "    </tr>\n",
       "    <tr>\n",
       "      <th>97</th>\n",
       "      <td>8</td>\n",
       "      <td>3600</td>\n",
       "      <td>0.40</td>\n",
       "      <td>8.12</td>\n",
       "    </tr>\n",
       "    <tr>\n",
       "      <th>98</th>\n",
       "      <td>8</td>\n",
       "      <td>3600</td>\n",
       "      <td>0.45</td>\n",
       "      <td>8.40</td>\n",
       "    </tr>\n",
       "    <tr>\n",
       "      <th>99</th>\n",
       "      <td>8</td>\n",
       "      <td>3600</td>\n",
       "      <td>0.50</td>\n",
       "      <td>8.39</td>\n",
       "    </tr>\n",
       "  </tbody>\n",
       "</table>\n",
       "<p>100 rows × 4 columns</p>\n",
       "</div>"
      ],
      "text/plain": [
       "    drillbit_dia  speed   feed   delam\n",
       "0              8     800   0.05   8.53\n",
       "1              8     800   0.10   8.00\n",
       "2              8     800   0.15   8.13\n",
       "3              8     800   0.20   8.27\n",
       "4              8     800   0.25   8.00\n",
       "..           ...     ...    ...    ...\n",
       "95             8    3600   0.30  11.32\n",
       "96             8    3600   0.35   8.25\n",
       "97             8    3600   0.40   8.12\n",
       "98             8    3600   0.45   8.40\n",
       "99             8    3600   0.50   8.39\n",
       "\n",
       "[100 rows x 4 columns]"
      ]
     },
     "execution_count": 3,
     "metadata": {},
     "output_type": "execute_result"
    }
   ],
   "source": [
    "data_df"
   ]
  },
  {
   "cell_type": "code",
   "execution_count": 4,
   "metadata": {},
   "outputs": [
    {
     "data": {
      "text/plain": [
       "Index(['drillbit_dia', 'speed ', 'feed ', 'delam'], dtype='object')"
      ]
     },
     "execution_count": 4,
     "metadata": {},
     "output_type": "execute_result"
    }
   ],
   "source": [
    "data_df.columns"
   ]
  },
  {
   "cell_type": "code",
   "execution_count": 7,
   "metadata": {},
   "outputs": [
    {
     "name": "stdout",
     "output_type": "stream",
     "text": [
      "    drillbit_dia  speed   feed    delam\n",
      "0              8     800   0.05   8.530\n",
      "1              8     800   0.10   8.000\n",
      "2              8     800   0.15   8.130\n",
      "3              8     800   0.20   8.270\n",
      "4              8     800   0.25   8.000\n",
      "5              8     800   0.30   8.850\n",
      "6              8     800   0.35   8.560\n",
      "7              8     800   0.40   8.050\n",
      "8              8     800   0.45  10.520\n",
      "9              8     800   0.50  10.360\n",
      "10             8    1000   0.05   8.170\n",
      "11             8    1000   0.10   8.040\n",
      "12             8    1000   0.15   9.000\n",
      "13             8    1000   0.20   9.100\n",
      "14             8    1000   0.25  12.760\n",
      "15             8    1000   0.30   9.500\n",
      "16             8    1000   0.35   9.630\n",
      "17             8    1000   0.40   8.360\n",
      "18             8    1000   0.45   8.369\n",
      "19             8    1000   0.50   8.060\n",
      "20             8    1200   0.05   9.560\n",
      "21             8    1200   0.10  11.900\n",
      "22             8    1200   0.15  10.300\n",
      "23             8    1200   0.20   9.000\n",
      "24             8    1200   0.25  12.977\n"
     ]
    }
   ],
   "source": [
    "print(data_df.head(25))"
   ]
  },
  {
   "cell_type": "markdown",
   "metadata": {},
   "source": [
    "## Describing data "
   ]
  },
  {
   "cell_type": "code",
   "execution_count": 11,
   "metadata": {},
   "outputs": [
    {
     "data": {
      "text/html": [
       "<div>\n",
       "<style scoped>\n",
       "    .dataframe tbody tr th:only-of-type {\n",
       "        vertical-align: middle;\n",
       "    }\n",
       "\n",
       "    .dataframe tbody tr th {\n",
       "        vertical-align: top;\n",
       "    }\n",
       "\n",
       "    .dataframe thead th {\n",
       "        text-align: right;\n",
       "    }\n",
       "</style>\n",
       "<table border=\"1\" class=\"dataframe\">\n",
       "  <thead>\n",
       "    <tr style=\"text-align: right;\">\n",
       "      <th></th>\n",
       "      <th>drillbit_dia</th>\n",
       "      <th>speed</th>\n",
       "      <th>feed</th>\n",
       "      <th>delam</th>\n",
       "    </tr>\n",
       "  </thead>\n",
       "  <tbody>\n",
       "    <tr>\n",
       "      <th>count</th>\n",
       "      <td>100.0</td>\n",
       "      <td>100.000000</td>\n",
       "      <td>100.000000</td>\n",
       "      <td>100.000000</td>\n",
       "    </tr>\n",
       "    <tr>\n",
       "      <th>mean</th>\n",
       "      <td>8.0</td>\n",
       "      <td>2000.000000</td>\n",
       "      <td>0.275000</td>\n",
       "      <td>9.572360</td>\n",
       "    </tr>\n",
       "    <tr>\n",
       "      <th>std</th>\n",
       "      <td>0.0</td>\n",
       "      <td>921.132373</td>\n",
       "      <td>0.144338</td>\n",
       "      <td>1.383862</td>\n",
       "    </tr>\n",
       "    <tr>\n",
       "      <th>min</th>\n",
       "      <td>8.0</td>\n",
       "      <td>800.000000</td>\n",
       "      <td>0.050000</td>\n",
       "      <td>8.000000</td>\n",
       "    </tr>\n",
       "    <tr>\n",
       "      <th>25%</th>\n",
       "      <td>8.0</td>\n",
       "      <td>1200.000000</td>\n",
       "      <td>0.150000</td>\n",
       "      <td>8.366750</td>\n",
       "    </tr>\n",
       "    <tr>\n",
       "      <th>50%</th>\n",
       "      <td>8.0</td>\n",
       "      <td>1800.000000</td>\n",
       "      <td>0.275000</td>\n",
       "      <td>9.310000</td>\n",
       "    </tr>\n",
       "    <tr>\n",
       "      <th>75%</th>\n",
       "      <td>8.0</td>\n",
       "      <td>2800.000000</td>\n",
       "      <td>0.400000</td>\n",
       "      <td>10.360000</td>\n",
       "    </tr>\n",
       "    <tr>\n",
       "      <th>max</th>\n",
       "      <td>8.0</td>\n",
       "      <td>3600.000000</td>\n",
       "      <td>0.500000</td>\n",
       "      <td>12.977000</td>\n",
       "    </tr>\n",
       "  </tbody>\n",
       "</table>\n",
       "</div>"
      ],
      "text/plain": [
       "       drillbit_dia       speed        feed        delam\n",
       "count         100.0   100.000000  100.000000  100.000000\n",
       "mean            8.0  2000.000000    0.275000    9.572360\n",
       "std             0.0   921.132373    0.144338    1.383862\n",
       "min             8.0   800.000000    0.050000    8.000000\n",
       "25%             8.0  1200.000000    0.150000    8.366750\n",
       "50%             8.0  1800.000000    0.275000    9.310000\n",
       "75%             8.0  2800.000000    0.400000   10.360000\n",
       "max             8.0  3600.000000    0.500000   12.977000"
      ]
     },
     "execution_count": 11,
     "metadata": {},
     "output_type": "execute_result"
    }
   ],
   "source": [
    "data_df.describe()"
   ]
  },
  {
   "cell_type": "markdown",
   "metadata": {},
   "source": [
    "## Defining X and Y variable"
   ]
  },
  {
   "cell_type": "code",
   "execution_count": 12,
   "metadata": {},
   "outputs": [],
   "source": [
    "X = data_df.drop('delam', axis = 1)\n",
    "y = data_df['delam']"
   ]
  },
  {
   "cell_type": "code",
   "execution_count": 13,
   "metadata": {},
   "outputs": [],
   "source": [
    "X_train, X_test, y_train, y_test = train_test_split(X, y, test_size = 0.08, random_state = 20)\n",
    "\n",
    "# 0.08 means 8% of data is assigned for test \n",
    "#when random_state set to an integer, train_test_split will return same results for each execution.\n",
    "#when random_state set to an None, train_test_split will return different results for each execution"
   ]
  },
  {
   "cell_type": "markdown",
   "metadata": {},
   "source": [
    "## Standard scaler"
   ]
  },
  {
   "cell_type": "code",
   "execution_count": 14,
   "metadata": {},
   "outputs": [
    {
     "data": {
      "text/plain": [
       "StandardScaler()"
      ]
     },
     "execution_count": 14,
     "metadata": {},
     "output_type": "execute_result"
    }
   ],
   "source": [
    "from sklearn.preprocessing import StandardScaler\n",
    "scaler=StandardScaler()     # standardscaler to scale to sertain number \n",
    "scaler.fit(X_train)"
   ]
  },
  {
   "cell_type": "code",
   "execution_count": 15,
   "metadata": {},
   "outputs": [],
   "source": [
    "X_train_scaled = scaler.transform(X_train)\n",
    "X_test_scaled = scaler.transform(X_test)"
   ]
  },
  {
   "cell_type": "markdown",
   "metadata": {},
   "source": [
    "## Model development"
   ]
  },
  {
   "cell_type": "code",
   "execution_count": 16,
   "metadata": {},
   "outputs": [],
   "source": [
    "model = Sequential()\n",
    "model.add(Dense(128, input_dim=3, activation='relu'))  #3 features \n",
    "model.add(Dense(64, activation='relu'))\n",
    "#Output layer\n",
    "model.add(Dense(1, activation='linear'))     # 1 output "
   ]
  },
  {
   "cell_type": "code",
   "execution_count": 17,
   "metadata": {},
   "outputs": [
    {
     "name": "stdout",
     "output_type": "stream",
     "text": [
      "Model: \"sequential\"\n",
      "_________________________________________________________________\n",
      " Layer (type)                Output Shape              Param #   \n",
      "=================================================================\n",
      " dense (Dense)               (None, 128)               512       \n",
      "                                                                 \n",
      " dense_1 (Dense)             (None, 64)                8256      \n",
      "                                                                 \n",
      " dense_2 (Dense)             (None, 1)                 65        \n",
      "                                                                 \n",
      "=================================================================\n",
      "Total params: 8,833\n",
      "Trainable params: 8,833\n",
      "Non-trainable params: 0\n",
      "_________________________________________________________________\n"
     ]
    }
   ],
   "source": [
    "model.compile(loss='mean_squared_error', optimizer='adam', metrics=['mae'])\n",
    "model.summary()"
   ]
  },
  {
   "cell_type": "code",
   "execution_count": 26,
   "metadata": {},
   "outputs": [
    {
     "name": "stdout",
     "output_type": "stream",
     "text": [
      "Epoch 1/100\n",
      "3/3 [==============================] - 0s 37ms/step - loss: 2.5462 - mae: 1.2713 - val_loss: 2.3668 - val_mae: 1.2512\n",
      "Epoch 2/100\n",
      "3/3 [==============================] - 0s 21ms/step - loss: 2.5316 - mae: 1.2712 - val_loss: 2.3764 - val_mae: 1.2528\n",
      "Epoch 3/100\n",
      "3/3 [==============================] - 0s 29ms/step - loss: 2.5203 - mae: 1.2645 - val_loss: 2.3771 - val_mae: 1.2568\n",
      "Epoch 4/100\n",
      "3/3 [==============================] - 0s 26ms/step - loss: 2.5130 - mae: 1.2581 - val_loss: 2.3658 - val_mae: 1.2584\n",
      "Epoch 5/100\n",
      "3/3 [==============================] - 0s 22ms/step - loss: 2.5064 - mae: 1.2511 - val_loss: 2.3359 - val_mae: 1.2554\n",
      "Epoch 6/100\n",
      "3/3 [==============================] - 0s 26ms/step - loss: 2.4933 - mae: 1.2565 - val_loss: 2.2452 - val_mae: 1.2244\n",
      "Epoch 7/100\n",
      "3/3 [==============================] - 0s 30ms/step - loss: 2.4624 - mae: 1.2640 - val_loss: 2.1820 - val_mae: 1.2129\n",
      "Epoch 8/100\n",
      "3/3 [==============================] - 0s 26ms/step - loss: 2.4544 - mae: 1.2692 - val_loss: 2.1502 - val_mae: 1.2105\n",
      "Epoch 9/100\n",
      "3/3 [==============================] - 0s 29ms/step - loss: 2.4424 - mae: 1.2641 - val_loss: 2.1558 - val_mae: 1.2204\n",
      "Epoch 10/100\n",
      "3/3 [==============================] - 0s 28ms/step - loss: 2.4249 - mae: 1.2525 - val_loss: 2.1433 - val_mae: 1.2227\n",
      "Epoch 11/100\n",
      "3/3 [==============================] - 0s 25ms/step - loss: 2.4124 - mae: 1.2451 - val_loss: 2.1287 - val_mae: 1.2252\n",
      "Epoch 12/100\n",
      "3/3 [==============================] - 0s 27ms/step - loss: 2.4008 - mae: 1.2433 - val_loss: 2.0970 - val_mae: 1.2177\n",
      "Epoch 13/100\n",
      "3/3 [==============================] - 0s 29ms/step - loss: 2.3965 - mae: 1.2523 - val_loss: 2.0545 - val_mae: 1.1985\n",
      "Epoch 14/100\n",
      "3/3 [==============================] - 0s 33ms/step - loss: 2.3806 - mae: 1.2565 - val_loss: 2.0506 - val_mae: 1.1891\n",
      "Epoch 15/100\n",
      "3/3 [==============================] - 0s 36ms/step - loss: 2.3624 - mae: 1.2455 - val_loss: 2.0852 - val_mae: 1.1928\n",
      "Epoch 16/100\n",
      "3/3 [==============================] - 0s 32ms/step - loss: 2.3497 - mae: 1.2255 - val_loss: 2.1389 - val_mae: 1.2046\n",
      "Epoch 17/100\n",
      "3/3 [==============================] - 0s 32ms/step - loss: 2.3344 - mae: 1.2134 - val_loss: 2.1499 - val_mae: 1.2070\n",
      "Epoch 18/100\n",
      "3/3 [==============================] - 0s 34ms/step - loss: 2.3289 - mae: 1.2060 - val_loss: 2.1444 - val_mae: 1.2075\n",
      "Epoch 19/100\n",
      "3/3 [==============================] - 0s 35ms/step - loss: 2.3167 - mae: 1.2039 - val_loss: 2.0917 - val_mae: 1.1901\n",
      "Epoch 20/100\n",
      "3/3 [==============================] - 0s 30ms/step - loss: 2.3018 - mae: 1.2082 - val_loss: 2.0605 - val_mae: 1.1807\n",
      "Epoch 21/100\n",
      "3/3 [==============================] - 0s 28ms/step - loss: 2.2935 - mae: 1.2112 - val_loss: 2.0302 - val_mae: 1.1723\n",
      "Epoch 22/100\n",
      "3/3 [==============================] - 0s 27ms/step - loss: 2.2862 - mae: 1.2115 - val_loss: 2.0315 - val_mae: 1.1721\n",
      "Epoch 23/100\n",
      "3/3 [==============================] - 0s 25ms/step - loss: 2.2766 - mae: 1.2074 - val_loss: 2.0147 - val_mae: 1.1698\n",
      "Epoch 24/100\n",
      "3/3 [==============================] - 0s 21ms/step - loss: 2.2648 - mae: 1.2046 - val_loss: 2.0047 - val_mae: 1.1722\n",
      "Epoch 25/100\n",
      "3/3 [==============================] - 0s 35ms/step - loss: 2.2471 - mae: 1.1963 - val_loss: 2.0070 - val_mae: 1.1738\n",
      "Epoch 26/100\n",
      "3/3 [==============================] - 0s 40ms/step - loss: 2.2511 - mae: 1.1875 - val_loss: 2.0047 - val_mae: 1.1761\n",
      "Epoch 27/100\n",
      "3/3 [==============================] - 0s 42ms/step - loss: 2.2252 - mae: 1.1887 - val_loss: 1.9330 - val_mae: 1.1536\n",
      "Epoch 28/100\n",
      "3/3 [==============================] - 0s 61ms/step - loss: 2.2161 - mae: 1.2000 - val_loss: 1.8844 - val_mae: 1.1418\n",
      "Epoch 29/100\n",
      "3/3 [==============================] - 0s 47ms/step - loss: 2.2136 - mae: 1.2112 - val_loss: 1.8592 - val_mae: 1.1337\n",
      "Epoch 30/100\n",
      "3/3 [==============================] - 0s 46ms/step - loss: 2.2075 - mae: 1.2125 - val_loss: 1.8520 - val_mae: 1.1280\n",
      "Epoch 31/100\n",
      "3/3 [==============================] - 0s 47ms/step - loss: 2.2019 - mae: 1.2111 - val_loss: 1.8509 - val_mae: 1.1217\n",
      "Epoch 32/100\n",
      "3/3 [==============================] - 0s 52ms/step - loss: 2.1960 - mae: 1.2032 - val_loss: 1.8893 - val_mae: 1.1367\n",
      "Epoch 33/100\n",
      "3/3 [==============================] - 0s 49ms/step - loss: 2.1743 - mae: 1.1842 - val_loss: 1.9389 - val_mae: 1.1559\n",
      "Epoch 34/100\n",
      "3/3 [==============================] - 0s 45ms/step - loss: 2.1795 - mae: 1.1672 - val_loss: 1.9984 - val_mae: 1.1827\n",
      "Epoch 35/100\n",
      "3/3 [==============================] - 0s 21ms/step - loss: 2.1786 - mae: 1.1511 - val_loss: 1.9924 - val_mae: 1.1829\n",
      "Epoch 36/100\n",
      "3/3 [==============================] - 0s 28ms/step - loss: 2.1714 - mae: 1.1456 - val_loss: 1.9688 - val_mae: 1.1751\n",
      "Epoch 37/100\n",
      "3/3 [==============================] - 0s 54ms/step - loss: 2.1530 - mae: 1.1443 - val_loss: 1.9103 - val_mae: 1.1497\n",
      "Epoch 38/100\n",
      "3/3 [==============================] - 0s 63ms/step - loss: 2.1324 - mae: 1.1565 - val_loss: 1.8051 - val_mae: 1.1105\n",
      "Epoch 39/100\n",
      "3/3 [==============================] - 0s 50ms/step - loss: 2.1335 - mae: 1.1841 - val_loss: 1.7191 - val_mae: 1.0796\n",
      "Epoch 40/100\n",
      "3/3 [==============================] - 0s 50ms/step - loss: 2.1130 - mae: 1.1945 - val_loss: 1.7143 - val_mae: 1.0761\n",
      "Epoch 41/100\n",
      "3/3 [==============================] - 0s 52ms/step - loss: 2.1028 - mae: 1.1891 - val_loss: 1.7108 - val_mae: 1.0751\n",
      "Epoch 42/100\n",
      "3/3 [==============================] - 0s 54ms/step - loss: 2.0930 - mae: 1.1864 - val_loss: 1.7001 - val_mae: 1.0727\n",
      "Epoch 43/100\n",
      "3/3 [==============================] - 0s 49ms/step - loss: 2.0817 - mae: 1.1783 - val_loss: 1.7169 - val_mae: 1.0760\n",
      "Epoch 44/100\n",
      "3/3 [==============================] - 0s 68ms/step - loss: 2.0693 - mae: 1.1672 - val_loss: 1.7259 - val_mae: 1.0775\n",
      "Epoch 45/100\n",
      "3/3 [==============================] - 0s 53ms/step - loss: 2.0601 - mae: 1.1583 - val_loss: 1.7569 - val_mae: 1.0868\n",
      "Epoch 46/100\n",
      "3/3 [==============================] - 0s 32ms/step - loss: 2.0476 - mae: 1.1442 - val_loss: 1.8108 - val_mae: 1.1030\n",
      "Epoch 47/100\n",
      "3/3 [==============================] - 0s 33ms/step - loss: 2.0528 - mae: 1.1301 - val_loss: 1.8681 - val_mae: 1.1180\n",
      "Epoch 48/100\n",
      "3/3 [==============================] - 0s 27ms/step - loss: 2.0540 - mae: 1.1163 - val_loss: 1.8766 - val_mae: 1.1192\n",
      "Epoch 49/100\n",
      "3/3 [==============================] - 0s 20ms/step - loss: 2.0531 - mae: 1.1128 - val_loss: 1.8552 - val_mae: 1.1111\n",
      "Epoch 50/100\n",
      "3/3 [==============================] - 0s 40ms/step - loss: 2.0415 - mae: 1.1119 - val_loss: 1.8032 - val_mae: 1.0965\n",
      "Epoch 51/100\n",
      "3/3 [==============================] - 0s 46ms/step - loss: 2.0209 - mae: 1.1180 - val_loss: 1.6791 - val_mae: 1.0614\n",
      "Epoch 52/100\n",
      "3/3 [==============================] - 0s 47ms/step - loss: 2.0173 - mae: 1.1482 - val_loss: 1.5794 - val_mae: 1.0373\n",
      "Epoch 53/100\n",
      "3/3 [==============================] - 0s 60ms/step - loss: 2.0039 - mae: 1.1599 - val_loss: 1.5671 - val_mae: 1.0313\n",
      "Epoch 54/100\n",
      "3/3 [==============================] - 0s 46ms/step - loss: 1.9942 - mae: 1.1580 - val_loss: 1.5528 - val_mae: 1.0237\n",
      "Epoch 55/100\n",
      "3/3 [==============================] - 0s 24ms/step - loss: 1.9854 - mae: 1.1594 - val_loss: 1.5380 - val_mae: 1.0183\n",
      "Epoch 56/100\n",
      "3/3 [==============================] - 0s 29ms/step - loss: 1.9749 - mae: 1.1569 - val_loss: 1.5576 - val_mae: 1.0224\n",
      "Epoch 57/100\n",
      "3/3 [==============================] - 0s 47ms/step - loss: 1.9594 - mae: 1.1419 - val_loss: 1.6270 - val_mae: 1.0449\n",
      "Epoch 58/100\n",
      "3/3 [==============================] - 0s 50ms/step - loss: 1.9699 - mae: 1.1193 - val_loss: 1.7425 - val_mae: 1.0847\n",
      "Epoch 59/100\n",
      "3/3 [==============================] - 0s 49ms/step - loss: 1.9763 - mae: 1.1025 - val_loss: 1.7603 - val_mae: 1.0867\n",
      "Epoch 60/100\n",
      "3/3 [==============================] - 0s 54ms/step - loss: 1.9750 - mae: 1.0938 - val_loss: 1.7370 - val_mae: 1.0805\n",
      "Epoch 61/100\n",
      "3/3 [==============================] - 0s 45ms/step - loss: 1.9569 - mae: 1.0898 - val_loss: 1.6522 - val_mae: 1.0537\n",
      "Epoch 62/100\n",
      "3/3 [==============================] - 0s 48ms/step - loss: 1.9374 - mae: 1.1062 - val_loss: 1.5108 - val_mae: 1.0117\n",
      "Epoch 63/100\n",
      "3/3 [==============================] - 0s 49ms/step - loss: 1.9338 - mae: 1.1374 - val_loss: 1.4268 - val_mae: 0.9908\n",
      "Epoch 64/100\n",
      "3/3 [==============================] - 0s 39ms/step - loss: 1.9234 - mae: 1.1494 - val_loss: 1.4265 - val_mae: 0.9894\n",
      "Epoch 65/100\n",
      "3/3 [==============================] - 0s 43ms/step - loss: 1.9113 - mae: 1.1381 - val_loss: 1.4742 - val_mae: 1.0006\n",
      "Epoch 66/100\n",
      "3/3 [==============================] - 0s 41ms/step - loss: 1.8990 - mae: 1.1183 - val_loss: 1.5252 - val_mae: 1.0174\n",
      "Epoch 67/100\n",
      "3/3 [==============================] - 0s 41ms/step - loss: 1.9022 - mae: 1.1014 - val_loss: 1.5805 - val_mae: 1.0398\n",
      "Epoch 68/100\n",
      "3/3 [==============================] - 0s 41ms/step - loss: 1.9002 - mae: 1.0858 - val_loss: 1.6055 - val_mae: 1.0397\n",
      "Epoch 69/100\n",
      "3/3 [==============================] - 0s 34ms/step - loss: 1.8914 - mae: 1.0802 - val_loss: 1.6141 - val_mae: 1.0282\n",
      "Epoch 70/100\n",
      "3/3 [==============================] - 0s 22ms/step - loss: 1.8820 - mae: 1.0781 - val_loss: 1.5978 - val_mae: 1.0135\n",
      "Epoch 71/100\n",
      "3/3 [==============================] - 0s 23ms/step - loss: 1.8711 - mae: 1.0794 - val_loss: 1.5428 - val_mae: 0.9958\n",
      "Epoch 72/100\n",
      "3/3 [==============================] - 0s 26ms/step - loss: 1.8791 - mae: 1.0972 - val_loss: 1.4743 - val_mae: 0.9767\n",
      "Epoch 73/100\n",
      "3/3 [==============================] - 0s 24ms/step - loss: 1.8772 - mae: 1.1125 - val_loss: 1.4387 - val_mae: 0.9676\n",
      "Epoch 74/100\n",
      "3/3 [==============================] - 0s 27ms/step - loss: 1.8670 - mae: 1.1155 - val_loss: 1.4191 - val_mae: 0.9625\n",
      "Epoch 75/100\n",
      "3/3 [==============================] - 0s 26ms/step - loss: 1.8471 - mae: 1.1072 - val_loss: 1.4293 - val_mae: 0.9641\n",
      "Epoch 76/100\n",
      "3/3 [==============================] - 0s 32ms/step - loss: 1.8444 - mae: 1.0915 - val_loss: 1.4790 - val_mae: 0.9879\n",
      "Epoch 77/100\n",
      "3/3 [==============================] - 0s 36ms/step - loss: 1.8449 - mae: 1.0838 - val_loss: 1.4537 - val_mae: 0.9884\n",
      "Epoch 78/100\n",
      "3/3 [==============================] - 0s 35ms/step - loss: 1.8362 - mae: 1.0764 - val_loss: 1.4791 - val_mae: 0.9971\n",
      "Epoch 79/100\n",
      "3/3 [==============================] - 0s 34ms/step - loss: 1.8407 - mae: 1.0707 - val_loss: 1.4841 - val_mae: 0.9984\n",
      "Epoch 80/100\n",
      "3/3 [==============================] - 0s 27ms/step - loss: 1.8339 - mae: 1.0655 - val_loss: 1.4640 - val_mae: 0.9921\n",
      "Epoch 81/100\n",
      "3/3 [==============================] - 0s 28ms/step - loss: 1.8219 - mae: 1.0695 - val_loss: 1.4140 - val_mae: 0.9766\n",
      "Epoch 82/100\n",
      "3/3 [==============================] - 0s 27ms/step - loss: 1.8143 - mae: 1.0768 - val_loss: 1.3677 - val_mae: 0.9587\n",
      "Epoch 83/100\n",
      "3/3 [==============================] - 0s 17ms/step - loss: 1.8161 - mae: 1.0960 - val_loss: 1.2808 - val_mae: 0.9173\n",
      "Epoch 84/100\n",
      "3/3 [==============================] - 0s 24ms/step - loss: 1.8051 - mae: 1.1140 - val_loss: 1.2515 - val_mae: 0.9077\n",
      "Epoch 85/100\n",
      "3/3 [==============================] - 0s 29ms/step - loss: 1.8021 - mae: 1.1233 - val_loss: 1.2630 - val_mae: 0.9068\n",
      "Epoch 86/100\n",
      "3/3 [==============================] - 0s 25ms/step - loss: 1.8042 - mae: 1.1180 - val_loss: 1.3384 - val_mae: 0.9234\n",
      "Epoch 87/100\n",
      "3/3 [==============================] - 0s 31ms/step - loss: 1.7958 - mae: 1.0947 - val_loss: 1.4451 - val_mae: 0.9443\n",
      "Epoch 88/100\n",
      "3/3 [==============================] - 0s 45ms/step - loss: 1.7949 - mae: 1.0755 - val_loss: 1.5103 - val_mae: 0.9593\n",
      "Epoch 89/100\n",
      "3/3 [==============================] - 0s 46ms/step - loss: 1.7971 - mae: 1.0661 - val_loss: 1.5433 - val_mae: 0.9759\n",
      "Epoch 90/100\n",
      "3/3 [==============================] - 0s 45ms/step - loss: 1.7886 - mae: 1.0551 - val_loss: 1.5254 - val_mae: 0.9699\n",
      "Epoch 91/100\n",
      "3/3 [==============================] - 0s 24ms/step - loss: 1.7792 - mae: 1.0507 - val_loss: 1.4575 - val_mae: 0.9544\n",
      "Epoch 92/100\n",
      "3/3 [==============================] - 0s 15ms/step - loss: 1.7728 - mae: 1.0540 - val_loss: 1.3658 - val_mae: 0.9350\n",
      "Epoch 93/100\n",
      "3/3 [==============================] - 0s 16ms/step - loss: 1.7485 - mae: 1.0580 - val_loss: 1.2521 - val_mae: 0.8968\n",
      "Epoch 94/100\n",
      "3/3 [==============================] - 0s 15ms/step - loss: 1.7463 - mae: 1.0828 - val_loss: 1.1992 - val_mae: 0.8810\n",
      "Epoch 95/100\n",
      "3/3 [==============================] - 0s 20ms/step - loss: 1.7426 - mae: 1.0869 - val_loss: 1.1952 - val_mae: 0.8829\n",
      "Epoch 96/100\n",
      "3/3 [==============================] - 0s 26ms/step - loss: 1.7444 - mae: 1.0939 - val_loss: 1.1697 - val_mae: 0.8737\n",
      "Epoch 97/100\n",
      "3/3 [==============================] - 0s 18ms/step - loss: 1.7324 - mae: 1.0914 - val_loss: 1.2093 - val_mae: 0.8866\n",
      "Epoch 98/100\n",
      "3/3 [==============================] - 0s 16ms/step - loss: 1.7244 - mae: 1.0758 - val_loss: 1.2771 - val_mae: 0.9058\n",
      "Epoch 99/100\n",
      "3/3 [==============================] - 0s 17ms/step - loss: 1.7168 - mae: 1.0567 - val_loss: 1.3369 - val_mae: 0.9250\n",
      "Epoch 100/100\n",
      "3/3 [==============================] - 0s 18ms/step - loss: 1.7180 - mae: 1.0430 - val_loss: 1.3960 - val_mae: 0.9480\n"
     ]
    }
   ],
   "source": [
    "history = model.fit(X_train_scaled, y_train, validation_split=0.2, epochs =100)"
   ]
  },
  {
   "cell_type": "markdown",
   "metadata": {},
   "source": [
    "## Plot training and validation accuracy "
   ]
  },
  {
   "cell_type": "code",
   "execution_count": 27,
   "metadata": {},
   "outputs": [
    {
     "data": {
      "image/png": "[encoded data removed]",
      "text/plain": [
       "<Figure size 432x288 with 1 Axes>"
      ]
     },
     "metadata": {
      "needs_background": "light"
     },
     "output_type": "display_data"
    },
    {
     "data": {
      "image/png": "[encoded data removed]",
      "text/plain": [
       "<Figure size 432x288 with 1 Axes>"
      ]
     },
     "metadata": {
      "needs_background": "light"
     },
     "output_type": "display_data"
    }
   ],
   "source": [
    "from matplotlib import pyplot as plt\n",
    "#plot the training and validation accuracy and loss at each epoch\n",
    "loss = history.history['loss']\n",
    "val_loss = history.history['val_loss']\n",
    "epochs = range(1, len(loss) + 1)\n",
    "plt.plot(epochs, loss, 'y', label='Training loss')\n",
    "plt.plot(epochs, val_loss, 'r', label='Validation loss')\n",
    "plt.title('Training and validation loss')\n",
    "plt.xlabel('Epochs')\n",
    "plt.ylabel('Loss')\n",
    "plt.legend()\n",
    "plt.show()\n",
    "\n",
    "acc = history.history['mae']\n",
    "val_acc = history.history['val_mae']\n",
    "plt.plot(epochs, acc, 'y', label='Training MAE')\n",
    "plt.plot(epochs, val_acc, 'r', label='Validation MAE')\n",
    "plt.title('Training and validation MAE')\n",
    "plt.xlabel('Epochs')\n",
    "plt.ylabel('Accuracy')\n",
    "plt.legend()\n",
    "plt.show()"
   ]
  },
  {
   "cell_type": "markdown",
   "metadata": {},
   "source": [
    "# Prediction"
   ]
  },
  {
   "cell_type": "code",
   "execution_count": 28,
   "metadata": {
    "scrolled": true
   },
   "outputs": [
    {
     "name": "stdout",
     "output_type": "stream",
     "text": [
      "Predicted values are:  [[9.450489]\n",
      " [9.713173]]\n",
      "Real values are:  70    9.36\n",
      "74    9.35\n",
      "Name: delam, dtype: float64\n"
     ]
    }
   ],
   "source": [
    "#Predict on test data\n",
    "predictions = model.predict(X_test_scaled[:2])\n",
    "print(\"Predicted values are: \", predictions)\n",
    "print(\"Real values are: \", y_test[:2])"
   ]
  },
  {
   "cell_type": "markdown",
   "metadata": {},
   "source": [
    "# Error"
   ]
  },
  {
   "cell_type": "code",
   "execution_count": 29,
   "metadata": {},
   "outputs": [
    {
     "name": "stdout",
     "output_type": "stream",
     "text": [
      "1/1 [==============================] - 0s 31ms/step - loss: 1.2271 - mae: 0.9048\n",
      "Mean squared error from neural net:  1.2271339893341064\n",
      "Mean absolute error from neural net:  0.9048079252243042\n"
     ]
    }
   ],
   "source": [
    "mse_neural, mae_neural = model.evaluate(X_test_scaled, y_test)\n",
    "print('Mean squared error from neural net: ', mse_neural)\n",
    "print('Mean absolute error from neural net: ', mae_neural)"
   ]
  }
 ],
 "metadata": {
  "kernelspec": {
   "display_name": "Python 3",
   "language": "python",
   "name": "python3"
  },
  "language_info": {
   "codemirror_mode": {
    "name": "ipython",
    "version": 3
   },
   "file_extension": ".py",
   "mimetype": "text/x-python",
   "name": "python",
   "nbconvert_exporter": "python",
   "pygments_lexer": "ipython3",
   "version": "3.8.5"
  }
 },
 "nbformat": 4,
 "nbformat_minor": 4
}
